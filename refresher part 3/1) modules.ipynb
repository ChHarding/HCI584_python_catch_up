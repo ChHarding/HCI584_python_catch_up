{
 "cells": [
  {
   "cell_type": "markdown",
   "metadata": {},
   "source": [
    "# Modules and namespace\n",
    "HCI 574 lecture 20 and 21\n",
    "\n",
    "- one or more python files containing code that can be imported to make that code usable to you\n",
    "- typically .py files (sometimes .pyb or even .dll)\n",
    "- https://docs.python.org/3/tutorial/modules.html\n",
    "- I will try to remember to have a lectuyre later and talk about how to create your own module or package, which might be relevant for your version 2\n",
    "\n",
    "\n",
    "- importing a module imports a __namespace__, i.e. all names (classes, functions, etc.) must be called via their module names\n",
    "- This is very important as it enables the use of the same name in differnt namespaces (see my pi example)\n",
    "\n",
    "- use `dir(<namespace>)` to see a list of names for it\n"
   ]
  },
  {
   "cell_type": "code",
   "execution_count": 1,
   "metadata": {},
   "outputs": [
    {
     "output_type": "stream",
     "name": "stdout",
     "text": "['__doc__', '__loader__', '__name__', '__package__', '__spec__', 'acos', 'acosh', 'asin', 'asinh', 'atan', 'atan2', 'atanh', 'ceil', 'copysign', 'cos', 'cosh', 'degrees', 'e', 'erf', 'erfc', 'exp', 'expm1', 'fabs', 'factorial', 'floor', 'fmod', 'frexp', 'fsum', 'gamma', 'gcd', 'hypot', 'inf', 'isclose', 'isfinite', 'isinf', 'isnan', 'ldexp', 'lgamma', 'log', 'log10', 'log1p', 'log2', 'modf', 'nan', 'pi', 'pow', 'radians', 'remainder', 'sin', 'sinh', 'sqrt', 'tan', 'tanh', 'tau', 'trunc']\n3.15 3.141592653589793\n"
    }
   ],
   "source": [
    "pi = 3.15 # my new, simpler pi ... for the programmer on the go!\n",
    "\n",
    "# simple import, all names must be used with module name before it (fully qualified)\n",
    "import math\n",
    "print(dir(math)) # list of names, __s (dunders) are module internal\n",
    "print(pi, math.pi)  #<namespace>.<name>"
   ]
  },
  {
   "cell_type": "code",
   "execution_count": 2,
   "metadata": {},
   "outputs": [
    {
     "output_type": "stream",
     "name": "stdout",
     "text": "[[0. 0.]\n [0. 0.]]\n"
    }
   ],
   "source": [
    "# rename namespace on import\n",
    "import numpy as np # it's very common to shorten module names\n",
    "a = np.zeros((2,2,)) # short for numpy.zeros() \n",
    "print(a)"
   ]
  },
  {
   "cell_type": "code",
   "execution_count": 3,
   "metadata": {},
   "outputs": [
    {
     "output_type": "stream",
     "name": "stdout",
     "text": "['In', 'Out', '_', '__', '___', '__builtin__', '__builtins__', '__doc__', '__loader__', '__name__', '__package__', '__spec__', '_dh', '_i', '_i1', '_i2', '_i3', '_ih', '_ii', '_iii', '_oh', 'a', 'exit', 'get_ipython', 'math', 'np', 'os', 'pi', 'quit', 'sys']\n['In', 'Out', '_', '__', '___', '__builtin__', '__builtins__', '__doc__', '__loader__', '__name__', '__package__', '__spec__', '_dh', '_i', '_i1', '_i2', '_i3', '_ih', '_ii', '_iii', '_oh', 'a', 'exit', 'get_ipython', 'math', 'os', 'pi', 'quit', 'sys']\n"
    }
   ],
   "source": [
    "print(dir()) # show all names in current (build_in) name space\n",
    "\n",
    "# it's possible to remove an imported namespace again  \n",
    "del np # remove np (will error if np doesn't exist!)\n",
    "\n",
    "print(dir()) # no more np"
   ]
  },
  {
   "cell_type": "code",
   "execution_count": 4,
   "metadata": {},
   "outputs": [
    {
     "output_type": "stream",
     "name": "stdout",
     "text": "[1. 1. 1. 1. 1.]\n3.141592653589793\n"
    }
   ],
   "source": [
    "# selective import\n",
    "from numpy import ones, zeros # import names INTO current namespace\n",
    "from math import pi\n",
    "# result, no need to type in namespace\n",
    "print(ones(5))\n",
    "\n",
    "# potential issue: will overwrite already defined names in current namespace!\n",
    "print(pi) # hey! that's not my pi! I want 3.15!"
   ]
  },
  {
   "cell_type": "code",
   "execution_count": 9,
   "metadata": {},
   "outputs": [
    {
     "output_type": "stream",
     "name": "stdout",
     "text": "'this is pretty print!'\n['PrettyPrinter', '_StringIO', '__all__', '__builtins__', '__cached__', '__doc__', '__file__', '__loader__', '__name__', '__package__', '__spec__', '_builtin_scalars', '_collections', '_perfcheck', '_recursion', '_safe_key', '_safe_repr', '_safe_tuple', '_sys', '_types', '_wrap_bytes_repr', 'isreadable', 'isrecursive', 'pformat', 'pprint', 're', 'saferepr']\n'this is pretty print!'\n"
    }
   ],
   "source": [
    "# some modules contain just one main function of the same name as module\n",
    "import pprint\n",
    "pprint.pprint(\"this is pretty print!\")\n",
    "print(dir(pprint))\n",
    "\n",
    "# short cut: just pull function into current namespace\n",
    "from pprint import pprint\n",
    "pprint(\"this is pretty print!\")"
   ]
  },
  {
   "cell_type": "code",
   "execution_count": 5,
   "metadata": {},
   "outputs": [
    {
     "output_type": "stream",
     "name": "stdout",
     "text": "['In', 'Out', '_', '__', '___', '__builtin__', '__builtins__', '__doc__', '__loader__', '__name__', '__package__', '__spec__', '_dh', '_i', '_i1', '_i2', '_i3', '_i4', '_i5', '_ih', '_ii', '_iii', '_oh', 'a', 'exit', 'get_ipython', 'math', 'ones', 'os', 'pi', 'quit', 'sys', 'zeros']\n['In', 'Out', '_', '__', '___', '__builtin__', '__builtins__', '__doc__', '__loader__', '__name__', '__package__', '__spec__', '_dh', '_i', '_i1', '_i2', '_i3', '_i4', '_i5', '_ih', '_ii', '_iii', '_oh', 'a', 'acos', 'acosh', 'asin', 'asinh', 'atan', 'atan2', 'atanh', 'ceil', 'copysign', 'cos', 'cosh', 'degrees', 'e', 'erf', 'erfc', 'exit', 'exp', 'expm1', 'fabs', 'factorial', 'floor', 'fmod', 'frexp', 'fsum', 'gamma', 'gcd', 'get_ipython', 'hypot', 'inf', 'isclose', 'isfinite', 'isinf', 'isnan', 'ldexp', 'lgamma', 'log', 'log10', 'log1p', 'log2', 'modf', 'nan', 'ones', 'os', 'pi', 'pow', 'quit', 'radians', 'remainder', 'sin', 'sinh', 'sqrt', 'sys', 'tan', 'tanh', 'tau', 'trunc', 'zeros']\n"
    }
   ],
   "source": [
    "print(dir()) # still have math as a module namespace\n",
    "del math # remove it\n",
    "\n",
    "# \"extreme\" case: import all names into current namespace\n",
    "from math import *\n",
    "print(dir()) # now all math names are in current namespace "
   ]
  },
  {
   "cell_type": "code",
   "execution_count": 20,
   "metadata": {},
   "outputs": [
    {
     "output_type": "stream",
     "name": "stdout",
     "text": "builtins\n"
    }
   ],
   "source": [
    "# What's your namespace? use .__module__\n",
    "print(len.__module__) # all standrd functions are define in buildins "
   ]
  },
  {
   "cell_type": "code",
   "execution_count": 19,
   "metadata": {},
   "outputs": [
    {
     "output_type": "execute_result",
     "data": {
      "text/plain": "<IPython.lib.display.IFrame at 0x26f223914e0>",
      "text/html": "\n        <iframe\n            width=\"500\"\n            height=\"500\"\n            src=\"http://www.iastate.edu\"\n            frameborder=\"0\"\n            allowfullscreen\n        ></iframe>\n        "
     },
     "metadata": {},
     "execution_count": 19
    }
   ],
   "source": [
    "# nested namespaces \n",
    "\n",
    "# a module can have \"sub-modules\", these modules are called packages\n",
    "\n",
    "# from display namespace inside the Ipython package get the IFrame function\n",
    "from IPython.display import IFrame\n",
    "\n",
    "# display a webpage in a small browser window\n",
    "IFrame(\"http://www.iastate.edu\", width=500, height=500)"
   ]
  },
  {
   "cell_type": "code",
   "execution_count": null,
   "metadata": {},
   "outputs": [],
   "source": []
  }
 ],
 "metadata": {
  "language_info": {
   "codemirror_mode": {
    "name": "ipython",
    "version": 3
   },
   "file_extension": ".py",
   "mimetype": "text/x-python",
   "name": "python",
   "nbconvert_exporter": "python",
   "pygments_lexer": "ipython3",
   "version": "3.7.3-final"
  },
  "orig_nbformat": 2,
  "kernelspec": {
   "name": "python3",
   "display_name": "Python 3"
  }
 },
 "nbformat": 4,
 "nbformat_minor": 2
}