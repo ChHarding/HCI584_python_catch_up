{
 "cells": [
  {
   "cell_type": "markdown",
   "metadata": {},
   "source": [
    "# Modules and namespace\n",
    "HCI 574 lecture 20 and 21\n",
    "\n",
    "- one or more python files containing code that can be imported to make that code usable to you\n",
    "- typically .py files (sometimes .pyb or even .dll)\n",
    "- https://docs.python.org/3/tutorial/modules.html\n",
    "- I will try to remember to have a lectuyre later and talk about how to create your own module or package, which might be relevant for your version 2\n",
    "\n",
    "\n",
    "- importing a module imports a __namespace__, i.e. all names (classes, functions, etc.) must be called via their module names\n",
    "- This is very important as it enables the use of the same name in differnt namespaces (see my pi example)\n",
    "\n",
    "- use `dir(<namespace>)` to see a list of names for it\n"
   ]
  },
  {
   "cell_type": "code",
   "execution_count": null,
   "metadata": {},
   "outputs": [],
   "source": [
    "pi = 3.15 # my new, simpler pi ... for the programmer on the go!\n",
    "\n",
    "# simple import, all names must be used with module name before it (fully qualified)\n",
    "import math\n",
    "print(dir(math)) # list of names, __s (dunders) are module internal\n",
    "print(pi, math.pi)  #<namespace>.<name>"
   ]
  },
  {
   "cell_type": "code",
   "execution_count": null,
   "metadata": {},
   "outputs": [],
   "source": [
    "# rename namespace on import\n",
    "import numpy as np # it's very common to shorten module names\n",
    "a = np.zeros((2,2,)) # short for numpy.zeros() \n",
    "print(a)"
   ]
  },
  {
   "cell_type": "code",
   "execution_count": null,
   "metadata": {},
   "outputs": [],
   "source": [
    "print(dir()) # show all names in current (buildins) name space\n",
    "\n",
    "# this contains all the standard functions (len, range, str, etc.)\n",
    "# see https://docs.python.org/3/library/functions.html#built-in-functions\n",
    "import builtins \n",
    "print(dir(builtins))\n",
    "\n",
    "# it's possible to remove an imported namespace again  \n",
    "del np # remove np (will error if np doesn't exist!)\n",
    "\n",
    "print(dir()) # no more np"
   ]
  },
  {
   "cell_type": "code",
   "execution_count": null,
   "metadata": {},
   "outputs": [],
   "source": [
    "# selective import\n",
    "from numpy import ones, zeros # import names INTO current namespace\n",
    "from math import pi\n",
    "# result, no need to type in namespace\n",
    "print(ones(5))\n",
    "\n",
    "# potential issue: will overwrite already defined names in current namespace!\n",
    "print(pi) # hey! that's not my pi! I want 3.15!"
   ]
  },
  {
   "cell_type": "code",
   "execution_count": null,
   "metadata": {},
   "outputs": [],
   "source": [
    "# some modules contain just one main function of the same name as module\n",
    "import pprint\n",
    "pprint.pprint(\"this is pretty print!\")\n",
    "print(dir(pprint))\n",
    "\n",
    "# short cut: just pull function into current namespace\n",
    "from pprint import pprint\n",
    "pprint(\"this is pretty print!\")"
   ]
  },
  {
   "cell_type": "code",
   "execution_count": null,
   "metadata": {},
   "outputs": [],
   "source": [
    "print(dir()) # still have math as a module namespace\n",
    "del math # remove it\n",
    "\n",
    "# \"extreme\" case: import all names into current namespace\n",
    "from math import *\n",
    "print(dir()) # now all math names are in current namespace "
   ]
  },
  {
   "cell_type": "code",
   "execution_count": null,
   "metadata": {},
   "outputs": [],
   "source": [
    "# What's your namespace? use .__module__\n",
    "print(len.__module__) # all standrd functions are define in buildins "
   ]
  },
  {
   "cell_type": "code",
   "execution_count": null,
   "metadata": {},
   "outputs": [],
   "source": [
    "# nested namespaces \n",
    "\n",
    "# a module can have \"sub-modules\", these modules are called packages\n",
    "\n",
    "# from display namespace inside the Ipython package get the IFrame function\n",
    "from IPython.display import IFrame\n",
    "\n",
    "# display a webpage in a small browser window\n",
    "IFrame(\"http://www.iastate.edu\", width=500, height=500)"
   ]
  },
  {
   "cell_type": "code",
   "execution_count": null,
   "metadata": {},
   "outputs": [],
   "source": [
    "# this shows how to set up a package with sub\n",
    "# (and sub-sub) namespaces.\n",
    "# there will be more on this closer to version 2 implementation time\n",
    "\n",
    "from testpak.constants import ABC\n",
    "print(ABC)\n",
    "\n",
    "import testpak.functions.funcsA\n",
    "print(dir(testpak.functions.funcsA))\n",
    "help(testpak.functions.funcsA.greet)\n",
    "testpak.functions.funcsA.greet(\"Bob\")"
   ]
  },
  {
   "cell_type": "code",
   "execution_count": null,
   "metadata": {},
   "outputs": [],
   "source": []
  }
 ],
 "metadata": {
  "language_info": {
   "codemirror_mode": {
    "name": "ipython",
    "version": 3
   },
   "file_extension": ".py",
   "mimetype": "text/x-python",
   "name": "python",
   "nbconvert_exporter": "python",
   "pygments_lexer": "ipython3",
   "version": "3.7.3-final"
  },
  "orig_nbformat": 2,
  "kernelspec": {
   "name": "python3",
   "display_name": "Python 3"
  }
 },
 "nbformat": 4,
 "nbformat_minor": 2
}