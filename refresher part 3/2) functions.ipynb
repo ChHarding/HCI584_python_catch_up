{
 "cells": [
  {
   "cell_type": "markdown",
   "metadata": {},
   "source": [
    "# Functions\n",
    "HCI 574 lectures 16, 17 & 18\n",
    "\n",
    "- functions let us re-use existing code and offer a \"service\" to others\n"
   ]
  },
  {
   "cell_type": "code",
   "execution_count": 37,
   "metadata": {},
   "outputs": [
    {
     "output_type": "stream",
     "name": "stdout",
     "text": "4.6\nabc\n"
    }
   ],
   "source": [
    "# example function definition (blueprint)\n",
    "s = \"abc\" # global scoped variable s\n",
    "\n",
    "def double(x):   # argument name x -> local variable\n",
    "    s = x + x # local scoped variable s\n",
    "    return s  # return value\n",
    "\n",
    "# function call with argument value\n",
    "d = double(2.3) # evaluates into what the function returns\n",
    "print(d)\n",
    "print(s) # in global scope we'll get the global s, local s is long gone!"
   ]
  },
  {
   "cell_type": "markdown",
   "metadata": {},
   "source": [
    "- functions (and classes/methods) are often bundeled into modules/packages\n",
    "- two aspects:\n",
    "    - def part - code that is just the function blueprint (not yet run!)\n",
    "    - calling the function actually excuted the blueprint\n",
    "\n",
    "- data flow (\"interface\"):\n",
    "    - from the caller to the function: argument values\n",
    "    - from the function back to the caller: return values\n",
    "\n",
    "- Defines a \"service contract\" between the function writer (give x I will do Y and return Z) and the user (you or somebody else) \n",
    "- Important: the user must not care about the code inside the offered function! (just do your thing, however that's done ...)\n",
    "\n",
    "\n",
    "- Even for your own functions: the code is compartmentalized and out of view\n",
    "- if you need to do something (more than?) twice, put it into a function and call the function instead\n",
    "- it's OK to have all function\n",
    "\n",
    "\n",
    "- global variables and variables in functions (local) are separated:\n",
    "    - the can have the same name\n",
    "    - the local variable (in local scope) do not exists in global scope\n",
    "\n",
    "\n",
    "- methods work much like functions execpt they are called via an object:\n",
    "  \n"
   ]
  },
  {
   "cell_type": "code",
   "execution_count": 39,
   "metadata": {},
   "outputs": [
    {
     "output_type": "stream",
     "name": "stdout",
     "text": "3 ABC\n"
    }
   ],
   "source": [
    "# methods are functions associated with an object \n",
    "s = \"abc\"\n",
    "\n",
    "print(len(L),     # function with arg L\n",
    "      s.upper())   # upper() method of list class, has access to L (no arg)\n",
    "\n",
    "# note you can separte arguments in multiple lines"
   ]
  },
  {
   "cell_type": "code",
   "execution_count": 40,
   "metadata": {},
   "outputs": [
    {
     "output_type": "stream",
     "name": "stdout",
     "text": "emordnilap\nNone\nnotlobbolton\n"
    }
   ],
   "source": [
    "# functions with no return (procedures) are OK (will still return None)\n",
    "def print_flipped(s):\n",
    "    print(s[::-1])  # stepsize is -1, so the slice is backwards\n",
    "    # no explcit return value, will still return None\n",
    "\n",
    "r = print_flipped(\"palindrome\")\n",
    "print(r) # \n",
    "\n",
    "# More flexibe: return a string instead and let the caller deal with it\n",
    "def flipped(s):\n",
    "    return s[::-1]\n",
    "\n",
    "f = flipped(\"bolton\") + flipped(\"notlob\") # more flexible!\n",
    "print(f) "
   ]
  },
  {
   "cell_type": "markdown",
   "metadata": {},
   "source": [
    "## Arguments \n",
    "\n",
    "- def lists the argument __names__  \n",
    "- some or all of these may have default values: def bla(a, b=0, c=0)\n",
    "\n",
    "- at the call, these are names are filled with argument __values__\n",
    "- there are 2 ways for a call arg value to be assigned to a def arg name:\n",
    "    - by position\n",
    "    - by keyword   \n",
    "\n",
    "\n",
    "\n",
    "### positional argument\n",
    "- def bla(a, b, c): 3 arg names, in order, left to right\n",
    "- bla(1, 2, 3)  3 arg values,  in order, left to right\n",
    "- result: defines 3 local variables inside bla: a=1  b=2 c=3\n",
    "- behind the scenes, variable creation via assignement\n",
    "- each arg name fetches one of the incoming arg values purly __based on its position__, the __1. name__ fetches the __1. value__, 2. name gets 2. value, etc.\n",
    "- if there are no enough values (one for each name) we get an error!\n"
   ]
  },
  {
   "cell_type": "code",
   "execution_count": 41,
   "metadata": {},
   "outputs": [
    {
     "output_type": "stream",
     "name": "stdout",
     "text": "1 2 3\n"
    },
    {
     "output_type": "error",
     "ename": "TypeError",
     "evalue": "bla() missing 1 required positional argument: 'c'",
     "traceback": [
      "\u001b[1;31m---------------------------------------------------------------------------\u001b[0m",
      "\u001b[1;31mTypeError\u001b[0m                                 Traceback (most recent call last)",
      "\u001b[1;32m<ipython-input-41-462e932c00d5>\u001b[0m in \u001b[0;36m<module>\u001b[1;34m\u001b[0m\n\u001b[0;32m      3\u001b[0m \u001b[1;33m\u001b[0m\u001b[0m\n\u001b[0;32m      4\u001b[0m \u001b[0mbla\u001b[0m\u001b[1;33m(\u001b[0m\u001b[1;36m1\u001b[0m\u001b[1;33m,\u001b[0m\u001b[1;36m2\u001b[0m\u001b[1;33m,\u001b[0m\u001b[1;36m3\u001b[0m\u001b[1;33m)\u001b[0m\u001b[1;33m\u001b[0m\u001b[1;33m\u001b[0m\u001b[0m\n\u001b[1;32m----> 5\u001b[1;33m \u001b[0mbla\u001b[0m\u001b[1;33m(\u001b[0m\u001b[1;36m7\u001b[0m\u001b[1;33m,\u001b[0m\u001b[1;36m3\u001b[0m\u001b[1;33m)\u001b[0m  \u001b[1;31m# no value for c => error\u001b[0m\u001b[1;33m\u001b[0m\u001b[1;33m\u001b[0m\u001b[0m\n\u001b[0m",
      "\u001b[1;31mTypeError\u001b[0m: bla() missing 1 required positional argument: 'c'"
     ]
    }
   ],
   "source": [
    "def bla(a,b,c):\n",
    "    print(a, b, c)\n",
    "\n",
    "bla(1,2,3)\n",
    "bla(7,3)  # no value for c => error"
   ]
  },
  {
   "cell_type": "markdown",
   "metadata": {},
   "source": []
  },
  {
   "cell_type": "markdown",
   "metadata": {},
   "source": [
    "### Default arg values\n",
    "- `<argname>=<default value>` assigns this value to the arg name before  the arg names go and fetch an arg value\n",
    "- here: all arg names default to 0\n",
    "- why? if the caller doens't provide a arg value -> no problem we already ahave the default value\n",
    "- if the default get's \"overwritten\" - also no problem\n",
    "- result: user has the option to omit some arg values, which can have resonable default setting e.g.:\n",
    "\n",
    "`def write_label(text, font_size=12, color=\"black\"):`\n",
    "- effect: write_label(\"Hello\") will be printed black at size 12\n",
    "- But: it may not be possible or desireable to give each arg a default! (what would be the default for text? \"\"? )"
   ]
  },
  {
   "cell_type": "code",
   "execution_count": 44,
   "metadata": {},
   "outputs": [
    {
     "output_type": "stream",
     "name": "stdout",
     "text": "0 0 0\n"
    }
   ],
   "source": [
    "def bla(a=0, b=0, c=0):\n",
    "    print(a, b, c)\n",
    "\n",
    "bla(1, 2)  # no value for c => no problem: c=0"
   ]
  },
  {
   "cell_type": "markdown",
   "metadata": {},
   "source": [
    "### Keyword Args\n",
    "- alternatively(*) the call can direct specify to which name a value shall be assigned\n",
    "`bla(a=1, c=3, b=2)`\n",
    "- for only this type of within call assignment: no spaces around the = !\n",
    "- effect: args can be delivered in any order!\n",
    "- any defaults for args (the = stuff in def!) are still used!\n"
   ]
  },
  {
   "cell_type": "code",
   "execution_count": null,
   "metadata": {},
   "outputs": [],
   "source": [
    "bla(a=1, c=3, b=2) # out of order\n",
    "bla(b=2) # a and c via default\n"
   ]
  },
  {
   "cell_type": "markdown",
   "metadata": {},
   "source": [
    "### mixing positional and keyword args\n",
    "- you can mix them, but:\n",
    "- __after the first use of a keyword, no more positional args__"
   ]
  },
  {
   "cell_type": "code",
   "execution_count": 46,
   "metadata": {},
   "outputs": [
    {
     "output_type": "error",
     "ename": "SyntaxError",
     "evalue": "positional argument follows keyword argument (<ipython-input-46-647bbc9bec48>, line 2)",
     "traceback": [
      "\u001b[1;36m  File \u001b[1;32m\"<ipython-input-46-647bbc9bec48>\"\u001b[1;36m, line \u001b[1;32m2\u001b[0m\n\u001b[1;33m    bla(c=3,1,2) # error\u001b[0m\n\u001b[1;37m           ^\u001b[0m\n\u001b[1;31mSyntaxError\u001b[0m\u001b[1;31m:\u001b[0m positional argument follows keyword argument\n"
     ]
    }
   ],
   "source": [
    "bla(1, c=3)\n",
    "#bla(c=3,1,2) # error "
   ]
  },
  {
   "cell_type": "markdown",
   "metadata": {},
   "source": [
    "### Fancy stuff\n",
    "- you indicate that args are lists (with *) or dictionaries (with **)\n",
    "- this can be useful to have functions a variable number of arguments (varargs) or give a function a dict with the key-value pairs containing the arg names and values \n",
    "- more: https://www.programiz.com/python-programming/args-and-kwargs"
   ]
  },
  {
   "cell_type": "code",
   "execution_count": 47,
   "metadata": {},
   "outputs": [
    {
     "output_type": "stream",
     "name": "stdout",
     "text": "0 1 5 50\n5 7 -1\n"
    }
   ],
   "source": [
    "# this seems to have just 1 arg but it's in fact a variable number of args!\n",
    "def add(*numbers): # 1,2,3,4 <- arg values are given as usual\n",
    "    r = 0 \n",
    "    for n in numbers: #but with * all args are to a list! [1,2,3,4]\n",
    "        r += n\n",
    "    return r\n",
    "\n",
    "print(add(), add(1), add(2,3), add(3,4,4,2,5,6,7,4,5,10))\n",
    "\n",
    "# ** will unroll a dict into args\n",
    "d = {\"a\":5, \"b\":7, \"c\":-1}\n",
    "bla(**d) "
   ]
  },
  {
   "cell_type": "code",
   "execution_count": null,
   "metadata": {},
   "outputs": [],
   "source": [
    "# it's often useful to write calls with each arg in a separate line\n",
    "# that way, you can comment out values or temporarity change values\n",
    "bla(1, #4 worked well for a\n",
    "    #b=2, \n",
    "    c=4,\n",
    "   )\n",
    "    \n"
   ]
  },
  {
   "cell_type": "markdown",
   "metadata": {},
   "source": [
    "### collections (strings, lists, dicts) as args\n",
    "- so far, all arg values ended up creating a local var (a=1)\n",
    "- what if a value is a collection?\n",
    "- will we be able to also change (write into) these collections?\n",
    "- immutable (strings, tuples, sets, etc,):\n",
    "    - immutable objects given as args cannot be changed inside the function!\n",
    "    - but: you can get the same effect by __returning a changed copy!__\n",
    "- mutable (lists, dicts):\n",
    "    - mutabls objects can be changed - but should they?\n",
    "    - unless performance is a goal, it's better to __return a changed copy__!"
   ]
  },
  {
   "cell_type": "code",
   "execution_count": 48,
   "metadata": {},
   "outputs": [
    {
     "output_type": "stream",
     "name": "stdout",
     "text": "abc\nOVERRULED!\n"
    }
   ],
   "source": [
    "# changing a string (immutable)\n",
    "def change1(x):\n",
    "    x = \"OVERRULED!\"\n",
    "\n",
    "s = \"abc\"\n",
    "change1(s)\n",
    "print(s)\n",
    "\n",
    "def change2(x):\n",
    "    x = \"OVERRULED!\"\n",
    "    return x\n",
    "s = change2(s)\n",
    "print(s)\n"
   ]
  },
  {
   "cell_type": "code",
   "execution_count": 51,
   "metadata": {},
   "outputs": [
    {
     "output_type": "stream",
     "name": "stdout",
     "text": "['OVERRULED!', 2, 3]\n[5, 6, 7]\n['OVERRULED!', 6, 7]\n"
    }
   ],
   "source": [
    "# changing a list (mutable)\n",
    "\n",
    "def changeList1(x):\n",
    "    x[0] = \"OVERRULED!\"\n",
    "\n",
    "\n",
    "def changeList2(x):\n",
    "    x[0] = \"OVERRULED!\"\n",
    "    return x    \n",
    "\n",
    "L = [1,2,3]\n",
    "changeList1(L) # in place changing\n",
    "print(L)\n",
    "\n",
    "L = [5,6,7]\n",
    "print(L)\n",
    "L = changeList2(L) # return changed copy\n",
    "print(L2)\n",
    "\n"
   ]
  },
  {
   "cell_type": "code",
   "execution_count": null,
   "metadata": {},
   "outputs": [],
   "source": []
  },
  {
   "cell_type": "code",
   "execution_count": null,
   "metadata": {},
   "outputs": [],
   "source": [
    "# gotcha: mutable default arg (don't use them!)\n",
    "# https://docs.python-guide.org/writing/gotchas/"
   ]
  },
  {
   "cell_type": "code",
   "execution_count": 52,
   "metadata": {},
   "outputs": [
    {
     "output_type": "stream",
     "name": "stdout",
     "text": "2 4\n(4, 2)\n2 4\n"
    }
   ],
   "source": [
    "# returning multiple values\n",
    "# easy, just return a tuple/list and have the caller unpack it\n",
    "def swap(a,b):\n",
    "    c = b # save value of b\n",
    "    b = a # overwrite b with a\n",
    "    a = c # overwrite a with \"b\"\n",
    "    return (a, b) # return a tuple, caller needs to unpack it \n",
    "\n",
    "x = 2\n",
    "y = 4\n",
    "print(x,y)\n",
    "print(swap(x, y))\n",
    "\n",
    "r = swap(x, y)\n",
    "x = r[0] # first element of returned tuple (swapped a)\n",
    "y = r[1] # second element of returned tuple (swapped b)\n",
    "print(x,y)\n",
    "\n"
   ]
  },
  {
   "cell_type": "code",
   "execution_count": 53,
   "metadata": {},
   "outputs": [
    {
     "output_type": "stream",
     "name": "stdout",
     "text": "3 9\n9 3\n"
    }
   ],
   "source": [
    "# more pythonic\n",
    "def swp(a,b):\n",
    "    return b,a # just return a swapped tuple :)\n",
    "\n",
    "x = 3\n",
    "y = 9\n",
    "print(x, y)\n",
    "\n",
    "x,y = swp(x, y) # unwrap tuple on the fly\n",
    "print(x, y)\n"
   ]
  },
  {
   "cell_type": "code",
   "execution_count": null,
   "metadata": {},
   "outputs": [],
   "source": []
  }
 ],
 "metadata": {
  "language_info": {
   "codemirror_mode": {
    "name": "ipython",
    "version": 3
   },
   "file_extension": ".py",
   "mimetype": "text/x-python",
   "name": "python",
   "nbconvert_exporter": "python",
   "pygments_lexer": "ipython3",
   "version": "3.7.3-final"
  },
  "orig_nbformat": 2,
  "kernelspec": {
   "name": "python3",
   "display_name": "Python 3"
  }
 },
 "nbformat": 4,
 "nbformat_minor": 2
}