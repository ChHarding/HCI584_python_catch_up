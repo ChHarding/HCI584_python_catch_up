{
 "cells": [
  {
   "cell_type": "markdown",
   "metadata": {},
   "source": [
    "# Pandas Dataframes \n",
    "HCI 574 lecture 24 and 41\n",
    "\n",
    "- deals with tables: rows, columns, header (1.column)\n",
    "- dataframe: \"rich\", high performance table manipulation  (same as in R?) \n",
    "- pandas: \n",
    "    - very popular \"glue\" package (https://pandas.pydata.org/)\n",
    "    - essential for many Data Science and Statistics projects\n",
    "    - lots of tutorials\n",
    "    - has some build in plotting capabilities "
   ]
  },
  {
   "cell_type": "code",
   "execution_count": null,
   "metadata": {},
   "outputs": [],
   "source": [
    "import pandas as pd \n",
    "\n",
    "# read in a datafrom from a .csv file\n",
    "df = pd.read_csv(\"world happyness 2019.csv\")\n",
    "display(df.head(10))  # head(10) top 10 rows only, display: fancy jupyer print()"
   ]
  },
  {
   "cell_type": "code",
   "execution_count": null,
   "metadata": {},
   "outputs": [],
   "source": [
    "# Note the automatic row index on the left (starting at 0)\n",
    "\n",
    "# list of column headers:\n",
    "col_names = list(df)\n",
    "print(col_names)\n",
    "\n",
    "# how many rows?\n",
    "print(len(df), \"rows\")"
   ]
  },
  {
   "cell_type": "code",
   "execution_count": null,
   "metadata": {},
   "outputs": [],
   "source": [
    "# for all numeric columns, what are there min, max, mean, median values?\n",
    "for n in col_names[2:]: # skip fist 2 columns\n",
    "    col = df[n] # grab column by name\n",
    "    print(col.describe()) # summary stats table\n"
   ]
  },
  {
   "cell_type": "code",
   "execution_count": null,
   "metadata": {},
   "outputs": [],
   "source": [
    "# How does the US compare to the  median values\n",
    "med = {}\n",
    "for n in col_names[2:]:\n",
    "    col = df[n]\n",
    "    med[n] = round(col.median(), 2)  # add to dict\n",
    "\n",
    "\n",
    "# Get the row where the column 'Country or region' has the value 'United States'\n",
    "US = df[df['Country or region'] == 'United States']\n",
    "display(US[US.columns[2:]]) # exclude first 2 columns\n",
    "display(pd.Series(med)) # Series is a 1D Dataframe. Displaying that looks nicer than printing a dict\n",
    "\n"
   ]
  },
  {
   "cell_type": "markdown",
   "metadata": {},
   "source": [
    "# Numpy  \n",
    "HCI 575 lecture 24 (start) \n",
    "\n",
    "- numpy is python's array package https://numpy.org/ that is fundamental to many fields of computing (see Ecosystem on https://numpy.org/)\n",
    "- arrays are lists in which all elements are the __same type__\n",
    "\n",
    "\n",
    "- why use numpy arrays? \n",
    "    - much better performance than lists\n",
    "    - methods are geared towards array (matix) operations\n",
    "    - much easier to deal with multi dimensional data than with nested lists\n",
    "    - very common \"glue\" package for numeric methods in science and engineering\n",
    "\n",
    "\n",
    "- numeric pandas dataframe columns are actually 1D numpy arrays\n",
    "- I'll show some of numpy's capbilities using images, which are 2D arrays\n",
    "- To read and display images, I'll use the Python Image Libray (PIL)\n",
    "- Much more about images (incl. some computer vision) see HCI 574 lectures 32, 33 and 34\n"
   ]
  },
  {
   "cell_type": "code",
   "execution_count": null,
   "metadata": {},
   "outputs": [],
   "source": [
    "# numpy example - compare 2 images\n",
    "import numpy as np\n",
    "from PIL import Image\n",
    "\n",
    "# load and show images\n",
    "img = Image.open('guido.jpg')\n",
    "\n",
    "# image parameters\n",
    "print(img.format, img.size, img.mode)\n",
    "\n",
    "display(img) # in jupyter, the image is shown as output\n",
    "# img.show()  # uses external OS image viewer "
   ]
  },
  {
   "cell_type": "code",
   "execution_count": null,
   "metadata": {},
   "outputs": [],
   "source": [
    "# convert into a 2D array (with 3 bands)\n",
    "im_ar = np.asarray(img)\n",
    "\n",
    "# 3 arrays (bands), each 2D array is 143 by 211 unsigned 8-bit ints (0-255)\n",
    "print(im_ar.shape, im_ar.dtype) "
   ]
  },
  {
   "cell_type": "code",
   "execution_count": null,
   "metadata": {},
   "outputs": [],
   "source": [
    "# convert a into 3 separate 2D arrays\n",
    "b, g, r  = im_ar[:, :, 0], im_ar[:, :, 1], im_ar[:, :, 2] \n",
    "\n",
    "# note: this is very ineffcient:https://stackoverflow.com/questions/41500637/how-to-extract-r-g-b-values-with-numpy-into-seperate-arrays \n",
    "\n",
    "# red channel\n",
    "print(r.shape, r.dtype)\n",
    "print(r)\n"
   ]
  },
  {
   "cell_type": "code",
   "execution_count": null,
   "metadata": {},
   "outputs": [],
   "source": [
    "# create an average image from the 3 bands\n",
    "avg = (r + g + b ) // 3 # // bc we need the result to be ints!\n",
    "print(avg.shape, avg.dtype)"
   ]
  },
  {
   "cell_type": "code",
   "execution_count": null,
   "metadata": {},
   "outputs": [],
   "source": [
    "# create image from average array and display\n",
    "display(Image.fromarray(r))\n",
    "display(Image.fromarray(g))\n",
    "display(Image.fromarray(b))\n",
    "display(Image.fromarray(avg))"
   ]
  },
  {
   "cell_type": "code",
   "execution_count": null,
   "metadata": {},
   "outputs": [],
   "source": [
    "# subtract one channel from another channel\n",
    "display(Image.fromarray(r-b))\n",
    "display(Image.fromarray(g-r))\n"
   ]
  },
  {
   "cell_type": "code",
   "execution_count": null,
   "metadata": {},
   "outputs": [],
   "source": [
    "# See what happens whe you do similar math:\n",
    "# remember, resulst must be 0 - 255 and mut be ints!\n",
    "display(Image.fromarray(b*2 - (r+g)))"
   ]
  },
  {
   "cell_type": "markdown",
   "metadata": {},
   "source": [
    "# Scipy\n",
    "\n",
    "- Major scientific (engeneering) computing library that uses numpy and pandas (plus matplotlib and others)\n",
    "- https://scipy.org/ \n",
    "- https://docs.scipy.org/doc/scipy/reference/tutorial/index.html (quick overview and examples)\n"
   ]
  },
  {
   "cell_type": "code",
   "execution_count": null,
   "metadata": {},
   "outputs": [],
   "source": [
    "# for (simple) statistics operations, see the standard statistics module\n",
    "import statistics\n",
    "dir(statistics)\n",
    "\n",
    "# heavy duty statictics are best done via scipy\n",
    "# https://docs.scipy.org/doc/scipy/reference/stats.html"
   ]
  }
 ],
 "metadata": {
  "language_info": {
   "codemirror_mode": {
    "name": "ipython",
    "version": 3
   },
   "file_extension": ".py",
   "mimetype": "text/x-python",
   "name": "python",
   "nbconvert_exporter": "python",
   "pygments_lexer": "ipython3",
   "version": "3.7.3-final"
  },
  "orig_nbformat": 2,
  "kernelspec": {
   "name": "python3",
   "display_name": "Python 3"
  }
 },
 "nbformat": 4,
 "nbformat_minor": 2
}