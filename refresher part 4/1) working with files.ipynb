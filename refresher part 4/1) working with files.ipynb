{
 "cells": [
  {
   "cell_type": "markdown",
   "metadata": {},
   "source": [
    "# Working with files (file system I/O)\n",
    "HCI574 lectures 11, 25 and 26\n",
    "\n",
    "- file: \n",
    "    - a file (text, image, data) on your \"local\" drive (incl. cloud connections like Box)\n",
    "    - stream of data between you local drive and your python code\n",
    "- as opposed to stream of data from a internet source (server, via URL)\n",
    "- advanced topic: there are also \"fake\" files (streams) that live in fact fully in memory\n",
    "\n",
    "## OS (operating system) file I/O in python\n",
    "- python modules: os, os.path, glob\n",
    "- simulates what human users do via a OS file manager (or terminal)\n",
    "    - see a list of files (os.listdir() or glob.glob())\n",
    "    - make a new folder os.mkdir()\n",
    "    - rename, move, copy, delete file or folders (module shutil)\n",
    "- if something fails (no permission, file not found) you'll get an exception with error info\n",
    "\n",
    "\n",
    "- the interpeter always \"sits\" inside a folder within your folder tree \n",
    "- when a .py/.ipynb file is started it typically sits in the same folder as the .py file (exception: if you have a workspace ins VS it will be the folder with the .code-workspace file)\n",
    "- a path is the description of a route through folders (string!)\n",
    "- Windows: \n",
    "    - drive letter as root, use \\ as separator \n",
    "    - use a raw string (r in front)  r\"c:\\Users\\Chris\\tmp\\bla.txt\" path to a file \n",
    "- Mac/*nix: / is root,  use / as separators no need for r : \"/Users/chris/tmp/bla.txt\"\n",
    "- absolute path:  always start from root: r\"c:\\Users\\Chris\\tmp\\\" (folder)   \n",
    "- relative path: start from current folder: \n",
    "    - assume we are sitting in \"c:\\Users\\Chris\"\n",
    "    - \"../Bob/tmp/stuff.doc\" means go up from Chris to Users (..) the into Bob, etc.\n"
   ]
  },
  {
   "cell_type": "code",
   "execution_count": 2,
   "metadata": {},
   "outputs": [
    {
     "output_type": "stream",
     "name": "stdout",
     "text": "c:\\Users\\charding\\Box\\HCI584\\HCI584_python_refresher\\refresher part 4\n[WinError 183] Cannot create a file when that file already exists: 'tmp'\ncurrently I'm sitting in c:\\Users\\charding\\Box\\HCI584\\HCI584_python_refresher\\refresher part 4\n"
    }
   ],
   "source": [
    "# some common file system related operations\n",
    "import os\n",
    "\n",
    "# what folder (path) are we sitting in right now?\n",
    "print(os.getcwd())  # get current working directory (=folder)\n",
    "\n",
    "# make a folder in current folder\n",
    "try:\n",
    "    os.mkdir(\"tmp\")  # will raise an error if folder already exists!\n",
    "except Exception as e:\n",
    "    print(e) # print error message\n",
    "else:\n",
    "    print(\"tmp was created\")\n",
    "\n",
    "print(\"currently I'm sitting in\", os.getcwd()) # we are still in the same folder!"
   ]
  },
  {
   "cell_type": "code",
   "execution_count": 3,
   "metadata": {},
   "outputs": [
    {
     "output_type": "stream",
     "name": "stdout",
     "text": "currently I'm sitting in c:\\Users\\charding\\Box\\HCI584\\HCI584_python_refresher\\refresher part 4\\tmp\n"
    }
   ],
   "source": [
    "# go into tmp (relative path)\n",
    "os.chdir(\"./tmp\") \n",
    "print(\"currently I'm sitting in\", os.getcwd())"
   ]
  },
  {
   "cell_type": "markdown",
   "metadata": {},
   "source": [
    "## writing and read into files\n",
    "\n",
    "- open() takes a file name and a mode (read, write, append) and creates a file object (file pointer in C/C++)\n",
    "- we then read/write through this file object and close it when done\n",
    "- reading is done with read() (or readlines())\n",
    "- writing/appending is done with print(<data>, file=<file object>)\n"
   ]
  },
  {
   "cell_type": "code",
   "execution_count": 4,
   "metadata": {},
   "outputs": [
    {
     "output_type": "stream",
     "name": "stdout",
     "text": "\" Python Wikipedia intro\\n\\nPython is an interpreted, high-level, general-purpose programming language. \\nCreated by Guido van Rossum and first released in 1991, Python's design philosophy emphasizes code readability with its notable use of significant whitespace.\\n\\nEnd.\\n\"\n Python Wikipedia intro\n\nPython is an interpreted, high-level, general-purpose programming language. \nCreated by Guido van Rossum and first released in 1991, Python's design philosophy emphasizes code readability with its notable use of significant whitespace.\n\nEnd.\n\n\n['Python', 'Wikipedia', 'intro']\n[]\n['Python', 'is', 'an', 'interpreted,', 'high-level,', 'general-purpose', 'programming', 'language.']\n['Created', 'by', 'Guido', 'van', 'Rossum', 'and', 'first', 'released', 'in', '1991,', \"Python's\", 'design', 'philosophy', 'emphasizes', 'code', 'readability', 'with', 'its', 'notable', 'use', 'of', 'significant', 'whitespace.']\n[]\n['End.']\n[]\n"
    }
   ],
   "source": [
    "# Write string into a new text file and read it back\n",
    "\n",
    "# Long text with several lines (\\n)\n",
    "txt = \"\"\" Python Wikipedia intro\n",
    "\n",
    "Python is an interpreted, high-level, general-purpose programming language. \n",
    "Created by Guido van Rossum and first released in 1991, Python's design philosophy emphasizes code readability with its notable use of significant whitespace.\n",
    "\n",
    "End.\n",
    "\"\"\"\n",
    "print(repr(txt)) # repr() will make us see the \\n\n",
    "\n",
    "# make file object pointing to file name, (over) write mode\n",
    "fo = open(\"python_intro.txt\", \"w+\") # w+ means overwrite if already exists\n",
    "print(txt, file=fo)\n",
    "fo.close() # <= important!\n",
    "\n",
    "# again, now for reading \n",
    "fo =  open(\"python_intro.txt\", \"r\")\n",
    "full = fo.read() # read in entire string\n",
    "fo.close()\n",
    "print(full)\n",
    "\n",
    "fo =  open(\"python_intro.txt\", \"r\")\n",
    "lines = fo.readlines() # read in but turn into list of lines (\\n for line ends)\n",
    "fo.close()\n",
    "\n",
    "# plit each line into words\n",
    "for l in lines:\n",
    "    print(l.split())\n",
    "\n"
   ]
  },
  {
   "cell_type": "code",
   "execution_count": 5,
   "metadata": {},
   "outputs": [
    {
     "output_type": "stream",
     "name": "stdout",
     "text": "['guido.jpg', 'python_intro.txt']\n['python_intro.txt']\n['guido.jpg']\n['../tmp\\\\bla.txt']\n"
    }
   ],
   "source": [
    "import shutil # OS shell util \n",
    "\n",
    "# copy guido.jpg from parent folder to current folder (.)\n",
    "shutil.copy(\"../guido.jpg\", \".\") # even on Win, you can usually use / for os functions\n",
    "\n",
    "\n",
    "# list names of file/folders following a pattern description\n",
    "from glob import glob # simple pattern matcher\n",
    "\n",
    "print(glob(\"*\")) # * matches all file names\n",
    "print(glob(\"*.txt\")) # all files ending in .txt\n",
    "print(glob(\"g*.jpg\")) # all files starting with g and ending in .jpg\n",
    "\n",
    "# delete file\n",
    "try:\n",
    "    os.remove(\"guido.jpg\")  # for some reason there's no shutil.remove() !\n",
    "except Exception as e:\n",
    "    print(e) # print error message\n",
    "\n",
    "# rename file\n",
    "try:\n",
    "    os.rename(\"python_intro.txt\", \"bla.txt\")\n",
    "except Exception as e:\n",
    "    print(e) # print error message\n",
    "\n",
    "# list content of tmp\n",
    "print(glob(\"../tmp/*\"))"
   ]
  },
  {
   "cell_type": "code",
   "execution_count": null,
   "metadata": {},
   "outputs": [],
   "source": []
  }
 ],
 "metadata": {
  "language_info": {
   "codemirror_mode": {
    "name": "ipython",
    "version": 3
   },
   "file_extension": ".py",
   "mimetype": "text/x-python",
   "name": "python",
   "nbconvert_exporter": "python",
   "pygments_lexer": "ipython3",
   "version": "3.7.3-final"
  },
  "orig_nbformat": 2,
  "kernelspec": {
   "name": "python3",
   "display_name": "Python 3"
  }
 },
 "nbformat": 4,
 "nbformat_minor": 2
}