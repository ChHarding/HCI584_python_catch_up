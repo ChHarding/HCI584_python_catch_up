{
 "cells": [
  {
   "cell_type": "markdown",
   "metadata": {},
   "source": [
    "# Plotting data (graphing)\n",
    "HCI 574 lectures 24, 39 and 41\n",
    "\n",
    "- Vital for data visualization: data exploration, present results, etc.\n",
    "- line charts, bar charts, histograms, scatterplots, boxplots, etc.\n",
    "- python's main plotting package is matplotlib https://matplotlib.org/\n",
    "- Many other higher level packages use or extend matplotlib \n",
    "- Pandas, Seaborn, Bokeh, D3, Plotly  (last 3 offer web integration)\n",
    "- For a great overview see The Python Visualization Landscape (2017): https://www.youtube.com/watch?v=FytuB8nFHPQ\n",
    "\n",
    "- For this demo, I will mainly use matplotlib as  it's Pandas integrations (https://pandas.pydata.org/pandas-docs/version/0.23.1/api.html#api-dataframe-plotting) and Seaborn for some advanced cases\n",
    "\n"
   ]
  },
  {
   "cell_type": "code",
   "execution_count": null,
   "metadata": {},
   "outputs": [],
   "source": [
    "import pandas as pd\n",
    "df = pd.read_csv(\"world happyness 2019.csv\")\n",
    "display(df.head(10))  # head(10) top 10 rows only, display: fancy jupyer print()\n",
    "\n",
    "print(list(df)) # list column names "
   ]
  },
  {
   "cell_type": "code",
   "execution_count": null,
   "metadata": {},
   "outputs": [],
   "source": [
    "# Bar chart\n",
    "df.hist(column=\"Generosity\", # name\n",
    "                   bins=12, \n",
    "                   grid=True,\n",
    "                   color='#607c8e',\n",
    "                   alpha=0.5,\n",
    "                   rwidth=0.9, #width of bar, <1.0 => gap\n",
    "                   )                 "
   ]
  },
  {
   "cell_type": "code",
   "execution_count": null,
   "metadata": {},
   "outputs": [],
   "source": [
    "# scatter plot\n",
    "df.plot(x='Generosity', \n",
    "        y='Social support', \n",
    "        kind='scatter');"
   ]
  },
  {
   "cell_type": "code",
   "execution_count": null,
   "metadata": {},
   "outputs": [],
   "source": [
    "# scatterplots with seaborn\n",
    "import seaborn as sns\n",
    "sns.lmplot(x='Generosity', \n",
    "           y='Social support',\n",
    "           data=df, \n",
    "           fit_reg=True,  # fit a regression line\n",
    "           );"
   ]
  },
  {
   "cell_type": "code",
   "execution_count": null,
   "metadata": {},
   "outputs": [],
   "source": [
    "# line plot\n",
    "df1 = df.drop(['Overall rank'], axis=1)\n",
    "df1.plot.line();"
   ]
  },
  {
   "cell_type": "code",
   "execution_count": null,
   "metadata": {},
   "outputs": [],
   "source": [
    "# box plot\n",
    "df2 = df.drop(['Overall rank', 'Score'], axis=1) # drop these columns, different range of numbers\n",
    "df2.boxplot(rot=-90);"
   ]
  },
  {
   "cell_type": "code",
   "execution_count": null,
   "metadata": {},
   "outputs": [],
   "source": [
    "# swar plot\n",
    "sns.swarmplot(x=\"Generosity\", \n",
    "              data=df);"
   ]
  },
  {
   "cell_type": "code",
   "execution_count": null,
   "metadata": {},
   "outputs": [],
   "source": []
  }
 ],
 "metadata": {
  "language_info": {
   "codemirror_mode": {
    "name": "ipython",
    "version": 3
   },
   "file_extension": ".py",
   "mimetype": "text/x-python",
   "name": "python",
   "nbconvert_exporter": "python",
   "pygments_lexer": "ipython3",
   "version": "3.7.3-final"
  },
  "orig_nbformat": 2,
  "kernelspec": {
   "name": "python3",
   "display_name": "Python 3"
  }
 },
 "nbformat": 4,
 "nbformat_minor": 2
}