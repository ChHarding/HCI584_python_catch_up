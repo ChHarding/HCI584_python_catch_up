{
 "cells": [
  {
   "cell_type": "markdown",
   "metadata": {},
   "source": [
    "# Flow control (branching and loops)\n",
    "Python refresher - part 2\n",
    "May 25, 2020\n",
    "\n",
    "\n",
    "- this is a jupyter notebook\n",
    "- it has markdown (formated text cells) and python (code) cells\n",
    "- both can be edited\n",
    "- all lines in a code cell are evaluated from the top and the result is shown below the cell (output)\n",
    "\n",
    "\n",
    "- below is a code cell for you to test\n",
    "- click on the code (so the code cell is active) and hit __Shift__-Enter (Or: click on the green arrow"
   ]
  },
  {
   "cell_type": "code",
   "execution_count": 1,
   "metadata": {},
   "outputs": [
    {
     "output_type": "stream",
     "name": "stdout",
     "text": "I'm a code cell\n"
    },
    {
     "output_type": "execute_result",
     "data": {
      "text/plain": "3"
     },
     "metadata": {},
     "execution_count": 1
    }
   ],
   "source": [
    "# test code cell\n",
    "print(\"I'm a code cell\")\n",
    "a = 3\n",
    "a  # the last line is evaluated and the result is shown (no need for print)\n",
    "#a; # if you want to suppress the output for the last line evaluations, end in ; "
   ]
  },
  {
   "cell_type": "markdown",
   "metadata": {},
   "source": [
    "# if elif else statement\n",
    "HCI 574 lecture 13\n",
    "\n",
    "- basic branching statement\n",
    "- each keyword ends with : and so requires a block\n",
    "- if and elif blocks need to be followed by a test that evaluates into either True or False"
   ]
  },
  {
   "cell_type": "code",
   "execution_count": 2,
   "metadata": {},
   "outputs": [
    {
     "output_type": "stream",
     "name": "stdout",
     "text": "It's True, 4 is bigger than 3\n"
    }
   ],
   "source": [
    "a = 4\n",
    "\n",
    "if a > 3: # <- ends with:, next line(s) need to be indented\n",
    "    print(\"It's True,\", a, \"is bigger than 3\")  # block is run if evaluates to True\n",
    "    # indented line, so I'm still part of the block\n",
    "# de-dentend, so I've left the block!\n",
    "# there's no else, so in case of False, no block is visited and nothing happens"
   ]
  },
  {
   "cell_type": "code",
   "execution_count": 3,
   "metadata": {},
   "outputs": [
    {
     "output_type": "stream",
     "name": "stdout",
     "text": "Nope  3 is NOT bigger than 3\n"
    }
   ],
   "source": [
    "# if you want to cover the False case, use the else statement\n",
    "a = 3\n",
    "\n",
    "if a > 3: # <- ends with:, next line(s) need to be indented\n",
    "    print(\"It's True,\", a, \"is bigger than 3\")  # this block is run when True\n",
    "else:\n",
    "    print(\"Nope \", a, \"is NOT bigger than 3\") # this block is run otherwise i.e. when False"
   ]
  },
  {
   "cell_type": "code",
   "execution_count": 4,
   "metadata": {},
   "outputs": [
    {
     "output_type": "stream",
     "name": "stdout",
     "text": "3 is 3\n"
    }
   ],
   "source": [
    "# elif(s) are used for more tests\n",
    "a = 3\n",
    "\n",
    "if a > 3: # first test\n",
    "    print(\"It's True,\", a, \"is bigger than 3\")  # this block is run when first test is True\n",
    "elif a == 3: # 1. test must have been False, now run a 2. test\n",
    "    print(a, \"is 3\") # 2. test was True\n",
    "else: # neither 1. nor 2. test were true\n",
    "    print(\"logically,\", a, \"must be smaller than 3\")"
   ]
  },
  {
   "cell_type": "markdown",
   "metadata": {},
   "source": [
    "#### Ternary operator in Python\n",
    "- fancy, but very compact\n",
    "- there are no : and no elifs\n",
    "\n",
    "\n",
    "- traditional form:\n",
    "```\n",
    "a = -4\n",
    "if a < 0:\n",
    "    sign = \"negative\"\n",
    "else:\n",
    "    sign = \"positive\"\n",
    "```"
   ]
  },
  {
   "cell_type": "code",
   "execution_count": 5,
   "metadata": {},
   "outputs": [
    {
     "output_type": "stream",
     "name": "stdout",
     "text": "-4 is negative\n"
    }
   ],
   "source": [
    "a = -4\n",
    "sign = \"negative\" if a < 0 else \"positive\" # with this 0 is positive\n",
    "print(a, \"is\", sign)"
   ]
  },
  {
   "cell_type": "markdown",
   "metadata": {},
   "source": [
    "# Block structure\n",
    "HCI574 lecture 12\n",
    "\n",
    "- a block is one or more lines of code\n",
    "- blocks are only defined via increasing or decreasing indentations:\n",
    "    - if the next line is farther to the right, you're about to enter a block\n",
    "    - if the next line is farther to the left, you're about to left this block\n",
    "- blocks can be nested\n",
    "\n",
    "- use 4 spaces as indents and de-dents, hitting tab in VS will inline 4 spaces for you\n",
    "- don't mix tabs and spaces\n",
    "\n",
    "- to move blocks around:\n",
    "    - paint the lines you want moved\n",
    "    - hit tab (move block right) or shift-tab (left)\n"
   ]
  },
  {
   "cell_type": "code",
   "execution_count": 6,
   "metadata": {},
   "outputs": [
    {
     "output_type": "error",
     "ename": "IndentationError",
     "evalue": "expected an indented block (<ipython-input-6-7663180b8aa0>, line 4)",
     "traceback": [
      "\u001b[1;36m  File \u001b[1;32m\"<ipython-input-6-7663180b8aa0>\"\u001b[1;36m, line \u001b[1;32m4\u001b[0m\n\u001b[1;33m    for a in range(0, 10):\u001b[0m\n\u001b[1;37m      ^\u001b[0m\n\u001b[1;31mIndentationError\u001b[0m\u001b[1;31m:\u001b[0m expected an indented block\n"
     ]
    }
   ],
   "source": [
    "s = ''\n",
    "while len(s) < 5:\n",
    "# indent the next 3 lines\n",
    "for a in range(0, 10):\n",
    "    print(s)\n",
    "    s += str(a)"
   ]
  },
  {
   "cell_type": "markdown",
   "metadata": {},
   "source": [
    "- make sure your block boundaries create the structure you want!\n",
    "- It's very easy to accidentally create a perfectly \"legal\" block structure that gives radically different result"
   ]
  },
  {
   "cell_type": "code",
   "execution_count": 7,
   "metadata": {},
   "outputs": [
    {
     "output_type": "stream",
     "name": "stdout",
     "text": "\n\n\n\n\n\n\n\n\n\n9\n9\n9\n9\n9\n9\n9\n9\n9\n9\n99\n99\n99\n99\n99\n99\n99\n99\n99\n99\n999\n999\n999\n999\n999\n999\n999\n999\n999\n999\n9999\n9999\n9999\n9999\n9999\n9999\n9999\n9999\n9999\n9999\n"
    }
   ],
   "source": [
    "# I forgot to move the last line ... with unindented consequences!\n",
    "s = ''\n",
    "while len(s) < 5:\n",
    "    for a in range(0, 10):\n",
    "        print(s)\n",
    "    s += str(a)"
   ]
  },
  {
   "cell_type": "markdown",
   "metadata": {},
   "source": [
    "### temporarily disable a block\n",
    "- Scenario: a block can probably go, but needs more testing first. Maybe you still needs it later, so you don't want to actually delete it\n",
    "- comment out block with ''', this can be evaluated and thus counts as a vaild block\n",
    "- make sure to line up the '''s\n",
    "- to deactivate a block with a single line:\n",
    "    - use #\n",
    "    - add `pass` (a dummy or noop command) so it's still a valid block"
   ]
  },
  {
   "cell_type": "code",
   "execution_count": 8,
   "metadata": {},
   "outputs": [],
   "source": [
    "a = 3\n",
    "if a > 3:\n",
    "    #print(\"True\")\n",
    "    pass\n",
    "else:\n",
    "    '''\n",
    "    a = 4\n",
    "    v = input(\"enter value\")\n",
    "    print(v,a)\n",
    "    '''"
   ]
  },
  {
   "cell_type": "markdown",
   "metadata": {},
   "source": [
    "# while (else) loops\n",
    "HCI 574 lecture 14 \n",
    "\n",
    "- `while:` statement must be followed but a True/False expression (test)\n",
    "- while block will be run if test is True\n",
    "- block will be run again and again, UNTIL test fails! (False) \n",
    "- The code of the block MUST somehow, eventually make the test fail, otherwise you'll get an endless (infinite) loop\n",
    "- here, the initial value of i is changed inside the loop, so it test of i will eventually fail\n",
    "- once the test fails, you can have it run through an optional else block"
   ]
  },
  {
   "cell_type": "code",
   "execution_count": 37,
   "metadata": {},
   "outputs": [
    {
     "output_type": "stream",
     "name": "stdout",
     "text": "0 5\n1 4\n2 3\n3 2\n4 1\ntest was finally False\n"
    }
   ],
   "source": [
    "i = 5\n",
    "counter = 0\n",
    "\n",
    "while i > 0:\n",
    "    print(counter, i)\n",
    "    counter += 1\n",
    "    i -= 1  # if this is commented out, while will loop forever!\n",
    "else:\n",
    "    print(\"test was finally False\")"
   ]
  },
  {
   "cell_type": "markdown",
   "metadata": {},
   "source": [
    "- an endless loop will make its cell have a [*] (busy) in front of it\n",
    "- to jump out, hit the red hollow Square (Interrupt)"
   ]
  },
  {
   "cell_type": "markdown",
   "metadata": {},
   "source": [
    "### `break` and `continue`  \n",
    "- `while True:` will set up an endless loop  \n",
    "-  you can still \"bail out\" of the block with `break`\n",
    "- `continue` will immediatly jump back to the while test \n",
    "\n",
    "- Here, I stay in the loop until my try to convert a string with `float()` does NOT raise an exception"
   ]
  },
  {
   "cell_type": "code",
   "execution_count": 10,
   "metadata": {},
   "outputs": [
    {
     "output_type": "stream",
     "name": "stdout",
     "text": "2.3 is a valid float. Thank you for your cooperation!\n2.3\n"
    }
   ],
   "source": [
    "# get a string from user, validate it and convert to float\n",
    "f = None\n",
    "while True:\n",
    "    s = input(\"Enter a valid float\")\n",
    "    try:\n",
    "        f = float(s)\n",
    "    except e as Exception:\n",
    "        print(s, \"is NOT a valid float. Try again!\")\n",
    "        #print(e) # this would print the exception object and it's error message\n",
    "        continue # jump back to while True:\n",
    "    else:\n",
    "        print(s, \"is a valid float. Thank you for your cooperation!\")\n",
    "        break # jump out of loop\n",
    "print(f)"
   ]
  },
  {
   "cell_type": "markdown",
   "metadata": {},
   "source": [
    "Pratice exercise (optional):\n",
    "- update the code above to bail out over 3 bad tries (when an exception occured)\n",
    "- in this case you won't have a proper value for f and will instead print out None"
   ]
  },
  {
   "cell_type": "markdown",
   "metadata": {},
   "source": [
    "# Exceptions (try except else)\n",
    "(HCI 574 lecture 22 - error handling)\n",
    "\n",
    "- branching as a result of an error \n",
    "- an error in python will raise an exception, which, for us, will exit the code and show an error message\n",
    "- 'try:' will protect the code in its block (typically a __single line__)\n",
    "- if the code raises an exception, the `exception` block is executed, if the code was OK, an optional `else:` block will be run\n",
    "- It's often useful to catch the exception object that was raised, here it will be put in e. Printing it out will usually give you a hint as to what's wrong\n"
   ]
  },
  {
   "cell_type": "markdown",
   "metadata": {},
   "source": [
    "# For (else)  loops\n",
    "\n",
    "HCI 574 lecture 15\n",
    "\n",
    "- the [range](https://www.geeksforgeeks.org/python-range-function/) function generates a sequence (\"list\") of ints often used with for loops\n",
    "- range is a [generator](https://wiki.python.org/moin/Generators)\n",
    "- `range(start, end (not reached!), step_size)`"
   ]
  },
  {
   "cell_type": "code",
   "execution_count": 11,
   "metadata": {},
   "outputs": [
    {
     "output_type": "stream",
     "name": "stdout",
     "text": "range(1, 10, 2)\n1\n3\n5\n7\n9\n[1, 3, 5, 7, 9]\n"
    }
   ],
   "source": [
    "r = range(1, 10, 2) # from 1, up to (but not including!) 10, in steps of 2\n",
    "print(r) # shows generator object, not the list\n",
    "l = list(r) \n",
    "for e in l: #\n",
    "    print(e)\n",
    "    e = -999 \n",
    "else:\n",
    "    print(e) # print last e, \n",
    "    \n",
    "print(l) # l was not changed!"
   ]
  },
  {
   "cell_type": "markdown",
   "metadata": {},
   "source": [
    "- `e` is the so-called target variable, i.e. the \"current\" element\n",
    "- `e` is a copy(!) of each element in l, i.e. changing `e` will not affect l!\n",
    "- `e` is a proper variable (created when the for loop is first entered), you can use any name for it\n",
    "\n",
    "- there's an optional else block that will be run after the last iteration, i.e. once all elements have been traversed\n",
    "\n",
    "- the for loop __sequence__ can be any list or string, or more generally, any [iterator](https://anandology.com/python-practice-book/iterators.html)\n",
    "- when you loop over a block, you __iterate__ over it, each pass is an __interation__\n",
    "- for dictionaries, you'll iterate over a (ad hoc created) list of its key"
   ]
  },
  {
   "cell_type": "code",
   "execution_count": 12,
   "metadata": {},
   "outputs": [
    {
     "output_type": "stream",
     "name": "stdout",
     "text": "M o n t y   P y t h o n"
    }
   ],
   "source": [
    "s = \"Monty Python\"\n",
    "for e in s:\n",
    "    print(e, end=\" \") # instead of newline, put space at the end"
   ]
  },
  {
   "cell_type": "code",
   "execution_count": 13,
   "metadata": {},
   "outputs": [
    {
     "output_type": "stream",
     "name": "stdout",
     "text": "x a d"
    }
   ],
   "source": [
    "dct = {\"x\":12, \"a\":57, \"d\": 43}\n",
    "for k in dct:\n",
    "    print(k, end=\" \")"
   ]
  },
  {
   "cell_type": "markdown",
   "metadata": {},
   "source": [
    "- list, tuple, dictionary comprehensions use the same syntax"
   ]
  },
  {
   "cell_type": "code",
   "execution_count": 14,
   "metadata": {},
   "outputs": [
    {
     "output_type": "stream",
     "name": "stdout",
     "text": "{'list,': 5, 'tuple,': 6, 'dictionary': 10, 'comprehensions': 14, 'use': 3, 'the': 3, 'same': 4, 'syntax': 6}\n"
    }
   ],
   "source": [
    "s = \"list, tuple, dictionary comprehensions use the same syntax\"\n",
    "words = s.split(\" \") # make list of words\n",
    "d = {k:len(k) for k in words}\n",
    "print(d)"
   ]
  },
  {
   "cell_type": "markdown",
   "metadata": {},
   "source": [
    "- enumerate() will generate a list of tuples, with index and element\n",
    "- very useful to get a counter when iterating\n",
    "- note how the tuple is unpacked into 2 target variables"
   ]
  },
  {
   "cell_type": "code",
   "execution_count": 15,
   "metadata": {},
   "outputs": [
    {
     "output_type": "stream",
     "name": "stdout",
     "text": "0 M\n1 o\n2 n\n3 t\n4 y\n5  \n6 P\n7 y\n8 t\n9 h\n10 o\n11 n\n"
    }
   ],
   "source": [
    "s = \"Monty Python\"\n",
    "for i,e in enumerate(s):\n",
    "    print(i, e)"
   ]
  },
  {
   "cell_type": "markdown",
   "metadata": {},
   "source": [
    "- zip(a, b. ...) will create a list of combo tuples from 2 or more lists/tuples"
   ]
  },
  {
   "cell_type": "code",
   "execution_count": 16,
   "metadata": {},
   "outputs": [
    {
     "output_type": "stream",
     "name": "stdout",
     "text": "('list,', 5)\n('tuple,', 6)\n('dictionary', 10)\n('comprehensions', 14)\n('use', 3)\n('the', 3)\n('same', 4)\n('syntax', 6)\n"
    }
   ],
   "source": [
    "# keys and values for the dictionary from above\n",
    "k = d.keys() \n",
    "v = d.values()\n",
    "\n",
    "# zip into a duo tuple list and iterate of it \n",
    "for t in zip(k,v):\n",
    "    print(t)"
   ]
  },
  {
   "cell_type": "markdown",
   "metadata": {},
   "source": [
    "# How to change a list via a loop?\n",
    "\n",
    "### Change in place (i.e. change the same object)\n",
    "- while loop: \n",
    "    - get your own counter, which is also your index into the list\n",
    "    - as long as the counter is within the range of the list, access and change each element via the index"
   ]
  },
  {
   "cell_type": "code",
   "execution_count": 17,
   "metadata": {},
   "outputs": [
    {
     "output_type": "stream",
     "name": "stdout",
     "text": "10\n[1, 9, 16, 4, 25, 64, 36, 9, 25, 0]\n"
    }
   ],
   "source": [
    "# square the numbers in this list\n",
    "L = [1,3,4,2,5,8,6,3,5,0]\n",
    "\n",
    "c = 0 # counter\n",
    "length = len(L)\n",
    "print(length) # length is 1 more than the highest valid list index!\n",
    "#print(L(length)) # out of range!\n",
    "\n",
    "while c < length: # from 0 (first element) to last \n",
    "    L[c] = L[c] * L[c] # read current element, square and wrinte back\n",
    "    c += 1 # increment to index of next element\n",
    "\n",
    "print(L)"
   ]
  },
  {
   "cell_type": "markdown",
   "metadata": {},
   "source": [
    "- for loop:\n",
    "    - use enumerate() to get the index of the current element\n",
    "    - change current element"
   ]
  },
  {
   "cell_type": "code",
   "execution_count": 18,
   "metadata": {},
   "outputs": [
    {
     "output_type": "stream",
     "name": "stdout",
     "text": "[1, 9, 16, 4, 25, 64, 36, 9, 25, 0]\n"
    }
   ],
   "source": [
    "# square the numbers in this list\n",
    "L = [1,3,4,2,5,8,6,3,5,0]\n",
    "\n",
    "for i,e in enumerate(L):\n",
    "    L[i] = e * e # or L[i] = L[i] * L[i]\n",
    "\n",
    "print(L)"
   ]
  },
  {
   "cell_type": "markdown",
   "metadata": {},
   "source": [
    "### return changed copy\n",
    "\n",
    "- I prefer to not change the list but rather assemble a copy of it with changed elements\n",
    "- start with empty, 2. list\n",
    "- iterate over list\n",
    "    - from targe variable, make new content\n",
    "    - append to 2. list"
   ]
  },
  {
   "cell_type": "code",
   "execution_count": 19,
   "metadata": {},
   "outputs": [
    {
     "output_type": "stream",
     "name": "stdout",
     "text": "[1, 3, 4, 2, 5, 8, 6, 3, 5, 0]\n[1, 9, 16, 4, 25, 64, 36, 9, 25, 0]\n"
    }
   ],
   "source": [
    "L = [1,3,4,2,5,8,6,3,5,0]\n",
    "Lc = [] # changed copy\n",
    "\n",
    "for e in L:\n",
    "    sq = e * e\n",
    "    Lc.append(sq)\n",
    "    \n",
    "print(L)\n",
    "print(Lc)"
   ]
  },
  {
   "cell_type": "markdown",
   "metadata": {},
   "source": [
    "## How to debug a jupyter notebook (sort of works)\n",
    "- click _convert and save to a python script_ (rightmost icon on top of notebook)\n",
    "- you will see a strange new \"file\" (new edit tab), which is NOT yet saved!\n",
    "- Use Control-S ro manually save it as a temporary .py file, e.g. as debug.py\n",
    "- debug.py will show the notebook in pure text with special comments to siginfy the start of each cell:\n",
    "- markdown will start with `# %% [markdown]`\n",
    "- code will start with `# %%`:\n",
    "```\n",
    "# %%\n",
    "a = -4\n",
    "sign = \"negative\" if a < 0 else \"positive\" # with this 0 is positive\n",
    "print(a, \"is\", sign)\n",
    "```\n",
    "- you can debug this version with the standard debugger. Just hit _Debug Cell_\n",
    "- you will see lots of weird variables that jupyter (ipython) needs\n",
    "- Big Caveat:\n",
    "    - after you've fixed debug.py you cannot simply convert it back to your (.ipynb) notebook!\n",
    "    - solution: you have to copy/paste the cell's code into your notebook\n",
    "- your debug.py is not magically connected to the notebook you converted it from!\n",
    "- I suggest that you treat the notebook as master and either overwrite debug.py every time you want to debug or delete it after you're done\n",
    "\n",
    "\n",
    "\n",
    "\n"
   ]
  },
  {
   "cell_type": "markdown",
   "metadata": {},
   "source": [
    "### Some weird stuff to watch out for\n",
    "- I initially created this notebook by making a new .ipynb file in VS, which seemed to have worked and I added lots of cells.\n",
    "- after I was done, I was trying to convert it to .py, which only gave me the first couple of lines, i.e. was essentially empty.\n",
    "- I then tried to open the notebook in regular jupyter (i.e. not within VS)\n",
    "- It opened but when I wanted to download it (convert it) as .py I got tons of these errors:\n",
    "\n",
    "`   [NbConvertApp] ERROR | Notebook JSON is invalid: `\n",
    "- So I had to start over, make a new notebook in regular jupyter and copy the code of each cell into it. After this, the conversion to .py did work (in normal and VS).\n",
    "- So .... if you want to create a new notebook, I would recommend either doing it in normal jupyter or at least checking after you have 1-2 cells, if the conversion looks OK. If it's not, do what I did.\n",
    "- (Ofc this could just be happening to me on my specific system ...)"
   ]
  },
  {
   "cell_type": "code",
   "execution_count": null,
   "metadata": {},
   "outputs": [],
   "source": []
  }
 ],
 "metadata": {
  "kernelspec": {
   "display_name": "Python 3",
   "language": "python",
   "name": "python3"
  },
  "language_info": {
   "codemirror_mode": {
    "name": "ipython",
    "version": 3
   },
   "file_extension": ".py",
   "mimetype": "text/x-python",
   "name": "python",
   "nbconvert_exporter": "python",
   "pygments_lexer": "ipython3",
   "version": "3.7.3-final"
  }
 },
 "nbformat": 4,
 "nbformat_minor": 2
}