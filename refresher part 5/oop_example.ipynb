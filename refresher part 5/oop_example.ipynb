{
 "cells": [
  {
   "cell_type": "markdown",
   "metadata": {},
   "source": []
  },
  {
   "cell_type": "markdown",
   "metadata": {},
   "source": [
    "# Object oriented programming in Python\n",
    "\n",
    "download the lecture 8 folder from Cybox\n",
    "\n",
    "- I want to quickly get to Class design, so the my intro has to be quick and dirty!\n",
    "- I will only talk about Encapsulation and Inheritance\n",
    "- gentler intro to OOP with many more details at HCI 574 lectures 27 thru 29\n",
    "\n",
    "\n",
    "### Encapsulation\n",
    "- classes create a linkage of data (any object), called attributes or properties with methods (functions)\n",
    "- an object (instance) is instantiated from a class initialized via the `__init__()` method (*)\n",
    "- the object  has is its own namespace, it must use __self__ to access its own attributes and methods (classes also define their own namespace)\n",
    "- there are many _magic methods_ that use overloading to make your class work like a standard python object (see __str__ for print() support)\n",
    "- https://towardsdatascience.com/how-to-be-fancy-with-python-part-2-70fab0a3e492\n",
    "\n",
    "\n",
    "\n",
    "- For the examples I have used draw.io show class relationships (somewhat like UML but very sloppy!)\n",
    "- I used https://app.diagrams.net and the Draw.io Integration Extension for VS Code (experimental?)\n"
   ]
  },
  {
   "cell_type": "code",
   "execution_count": 29,
   "metadata": {},
   "outputs": [],
   "source": [
    "# class def and object instantiation example\n",
    "\n",
    "class Person(object): # all base classes should be derived (inherit) from the standard python class object \n",
    "\n",
    "    # create a instance (object) of the class Person\n",
    "    def __init__(self, nm, ag):  # like a function but MUST always have self as 1. arg!\n",
    "        self.name = nm  # attribute, created in self namespace (self.<attrib>)\n",
    "        self.age = ag\n",
    "        self._pets_owned = [] # _ means \"protected\" \n",
    "        # no return !\n",
    "\n",
    "    # overloading str() with __str__ => what happens when object is print()ed?\n",
    "    def __str__(self):  # must have self!\n",
    "        return \"Name: \" + self.name + \", age: \" + str(self.age) # should add pets\n",
    "\n",
    "    # age the age (aged up)\n",
    "    def set_age(self, new_ag):\n",
    "        self.age = new_ag\n",
    "\n",
    "# this class definition would typically go into a module e.g. person_class.py"
   ]
  },
  {
   "cell_type": "code",
   "execution_count": 30,
   "metadata": {},
   "outputs": [
    {
     "output_type": "stream",
     "name": "stdout",
     "text": "Name: Bob, age: 35\nInfo for: Name: Bob, age: 36\n"
    }
   ],
   "source": [
    "# from person_class import Person  # how to import a class from a module\n",
    "\n",
    "# instantiate an object\n",
    "bob = Person(\"Bob\", 35)  # matches nm, ag in __init__\n",
    "print(bob) # calls bob's __str__() method\n",
    "\n",
    "# age up\n",
    "bob.set_age(36)\n",
    "print(\"Info for:\", bob)"
   ]
  },
  {
   "cell_type": "markdown",
   "metadata": {},
   "source": [
    "- Python does not have any real access restrictions (friend, private, protected, etc.)\n",
    "- you can indicate that attributes are NOT to be altered from the outside (_pets_owned) but this is not enforced\n",
    "- its also legal to get/set attributes directly, but it's advised to write get/set __access methods__ to hide the details and decouple that attribute names from the user - if I were to change self.name to self.name_of_person the code below would no longer work! "
   ]
  },
  {
   "cell_type": "code",
   "execution_count": 31,
   "metadata": {},
   "outputs": [
    {
     "output_type": "stream",
     "name": "stdout",
     "text": "Bobby 36\n"
    }
   ],
   "source": [
    "# direct attribute access\n",
    "bob.name = \"Bobby\"\n",
    "print(bob.name, bob.age)\n",
    "bob._pets_owned = [\"cat\", \"dog\"]"
   ]
  },
  {
   "cell_type": "markdown",
   "metadata": {},
   "source": [
    "### Inheritance\n",
    "- a (super) class inherits all methods from a base class\n",
    "- but: you must implicitly call the `__init__` of the base class to create (inherit) its attributes!"
   ]
  },
  {
   "cell_type": "code",
   "execution_count": 32,
   "metadata": {},
   "outputs": [],
   "source": [
    "class Worker(Person): # inherits from Person\n",
    "\n",
    "    def __init__(self, nme, ag, slry): # also has a salary\n",
    "        self.salary = slry\n",
    "\n",
    "        # we do NOT make name and age attributes here b/c Person's __init__ can do that\n",
    "        # that for us! Person.<method> => this is a class method\n",
    "        Person.__init__(self, nme, ag)\n",
    "\n",
    "        print(\"DEBUG\", self.name) # proof that we now have a name attrib from Person\n",
    "\n",
    "    # It does NOT define __str__ or set_age() !"
   ]
  },
  {
   "cell_type": "code",
   "execution_count": 33,
   "metadata": {},
   "outputs": [
    {
     "output_type": "stream",
     "name": "stdout",
     "text": "DEBUG Jane\nName: Jane, age: 46\n"
    }
   ],
   "source": [
    "jane = Worker(\"Jane\", 45, 6753)\n",
    "jane.set_age(46) # uses Person.set_age()\n",
    "print(jane) # uses Person.__str__()"
   ]
  },
  {
   "cell_type": "markdown",
   "metadata": {},
   "source": []
  },
  {
   "cell_type": "markdown",
   "metadata": {},
   "source": [
    "# How to design classes\n",
    "\n",
    "\n",
    "This example is heavily based on:  https://towardsdatascience.com/a-data-scientist-should-know-at-least-this-much-python-oop-d63f37eaac4d\n",
    "\n",
    "\n",
    "- I ended up massively re-writing the example but did not fully clean up the dubious naming scheme\n",
    "- sorry for the mix of guest_list (my preference!) and guestList (not the offical python style)\n",
    "- Class names should start with upper case\n",
    "- The scenario is a bit contrived but has many things we can improve upong\n",
    "\n",
    "\n",
    "\n",
    "### PYTHON OOP: Design of the Reservation Management System \n",
    "- Villa Vacation Scenario : \n",
    "    - guest (1+ people) rents a villa for a perid of time \n",
    "    - each Villa gets a personal assistant (PA)\n",
    "    - there's a standard and a VIP Villa  \n",
    "    - VIP villas have a better, snootier VIP personal assistant!\n",
    "\n",
    "    \n",
    "- Object model:\n",
    "    - create a central resort object\n",
    "    - define what villas it contains and which people work at it as personal assistants\n",
    "    - create guest objects (capture some guest data, say on check in)\n",
    "\n",
    "    - Reserve a villa for a period of time (this could be done pre guest check in)\n",
    "    - Book (connect) a guest into a reserved villa\n",
    "    - get info on:\n",
    "        - what villas does the resort own?\n",
    "        - which villas house which guests (which are VIP?)\n",
    "        - where are our guests staying (which villa?)  \n",
    "\n",
    "\n",
    "- 2 types of linkages: reservation with villa and guest with reservation\n",
    "- Assumed work flow:\n",
    "    - villa gets reserved for a time (results in a reservation object and a human readable reservation id, which we could think of as a confirmation code)\n",
    "    - guest checks in\n",
    "    - guest gets booked into and earlier reservation"
   ]
  },
  {
   "cell_type": "markdown",
   "metadata": {},
   "source": [
    "### villa\n",
    "\n",
    "- Class villa encapsulates the following rented villa characteristics\n",
    "    - name of villa -\n",
    "    - name of personal assistant. \n",
    "    - offers functions that inform about the \n",
    "        - hours that the personal assistant will be on call - \n",
    "        - the dates that the villa will be cleaned and keys will be changed. (end of stay)\n",
    "    - get the label of the gift that is left in the room of each new guest. \n",
    "\n",
    "- it has a class attribute total_number_of_villas, which will keep track of the total number of villa objects that are currently \"alive\"\n",
    "    - it's defined outside (before) method defs and lives in the class namespace (not instance namespace!)\n",
    "    - to access it inside a method (which is in instance namespace) you need to prepend the class name (to get it from its class namespace)\n",
    "    - in init, this counter gets incremented, one more instance was added\n",
    "    - how to deal with villas being deleted? overwrite the __del__ method"
   ]
  },
  {
   "cell_type": "code",
   "execution_count": 34,
   "metadata": {},
   "outputs": [],
   "source": [
    "from datetime import date # later needed for date representation (can do time math)\n",
    "\n",
    "class villa(object): # should be Villa!\n",
    "    ''' class to model a villa'''\n",
    "    total_number_of_villas = 0 # class attribute, shared by all instances!\n",
    "    def __init__(self, name):\n",
    "        ''' name and reservation object of the villa'''\n",
    "        self.villaName = name\n",
    "        self.id = None # will be set later\n",
    "        self.personalAssistant = None \n",
    "        villa.total_number_of_villas += 1\n",
    "        print(\"Current total of\", villa.total_number_of_villas, \"villa instances\")\n",
    "    def setPersonalAssistant(self, pa):\n",
    "        self.personalAssistant = pa\n",
    "        print(f\"Your personal assistant {pa} will be on call from 8.00am to 8.00pm for villa {self.villaName}\") \n",
    "    def isVIP(self):\n",
    "        # is self a vipVilla instance?\n",
    "        return isinstance(self, vipVilla)\n",
    "    def __del__(self):\n",
    "        '''triggered on deletion'''\n",
    "        villa.total_number_of_villas -= 1\n",
    "        print(\"Current total of\", villa.total_number_of_villas, \"villa instances\")\n",
    "    def __str__(self):\n",
    "        s =  f\"Name: {self.villaName}, reservation id: {self.id}, PA: {self.personalAssistant}\"\n",
    "        if self.isVIP(): s += \" (VIP)\"\n",
    "        return s\n",
    "    "
   ]
  },
  {
   "cell_type": "code",
   "execution_count": 36,
   "metadata": {},
   "outputs": [
    {
     "output_type": "stream",
     "name": "stdout",
     "text": "Current total of 2 villa instances\nYour personal assistant Manuel will be on call from 8.00am to 8.00pm for villa testvilla\n"
    }
   ],
   "source": [
    "# test usage example:\n",
    "v = villa(\"testvilla\") # reservation id won't be used for now\n",
    "v.setPersonalAssistant(\"Manuel\") # <= from Faulty Towers!\n",
    "\n",
    "# Note that v.isVIP()) and print(v) won't work yet, b/c we haven't defined the vipVilla class"
   ]
  },
  {
   "cell_type": "markdown",
   "metadata": {},
   "source": [
    "### vipVilla\n",
    "- inherits all attributes from class villa. (`villa.__init__`)\n",
    "- also get all the villa methods but overwrites setPersonalAssistant()\n",
    "- note that the attribute for teh PA is the same (personalAssistant), but we can alwasys check if this villa has as VIP PA, b/c of the isVIP() method the villa baseclass defined"
   ]
  },
  {
   "cell_type": "code",
   "execution_count": 9,
   "metadata": {},
   "outputs": [],
   "source": [
    "class vipVilla(villa):\n",
    "    def __init__(self, nn):\n",
    "        villa.__init__(self, nn) # call baseclass init\n",
    "    def setPersonalAssistant(self, pa):\n",
    "        self.personalAssistant = pa # same attribute as for normal villa\n",
    "        print(f\"Your VIP assistant {pa} will be on call (7.00am-9.00pm) in \" + #\n",
    "              f\"{self.villaName} to really pamper the crap out of you!\")                "
   ]
  },
  {
   "cell_type": "code",
   "execution_count": 37,
   "metadata": {},
   "outputs": [
    {
     "output_type": "stream",
     "name": "stdout",
     "text": "Current total of 3 villa instances\nYour VIP assistant Hervé Villechaize will be on call (7.00am-9.00pm) in testVIPvilla to really pamper the crap out of you!\n"
    }
   ],
   "source": [
    "# test usage example - same as above but with vipVilla\n",
    "vip = vipVilla(\"testVIPvilla\") # reservation id won't be used for now\n",
    "vip.setPersonalAssistant(\"Hervé Villechaize\") # "
   ]
  },
  {
   "cell_type": "code",
   "execution_count": 38,
   "metadata": {},
   "outputs": [
    {
     "output_type": "stream",
     "name": "stdout",
     "text": "Name: testvilla, reservation id: None, PA: Manuel\nName: testVIPvilla, reservation id: None, PA: Hervé Villechaize (VIP)\n"
    }
   ],
   "source": [
    "# get info on each villa\n",
    "print(v)\n",
    "print(vip)"
   ]
  },
  {
   "cell_type": "code",
   "execution_count": 40,
   "metadata": {},
   "outputs": [
    {
     "output_type": "stream",
     "name": "stdout",
     "text": "False True\n"
    },
    {
     "output_type": "execute_result",
     "data": {
      "text/plain": "False"
     },
     "metadata": {},
     "execution_count": 40
    }
   ],
   "source": [
    "# isinstance() - what class does each instance belong to?\n",
    "print(v.isVIP(), vip.isVIP()) # now even the baseclass can run isVIP()\n",
    "isinstance(vip, villa) # also, vip (superclass) is an instance of it's baseclass"
   ]
  },
  {
   "cell_type": "markdown",
   "metadata": {},
   "source": [
    "### guest \n",
    "\n",
    "encapsulates these attribute\n",
    "- first and last name\n",
    "- number of adults\n",
    "- number of children in the room. \n",
    "- access methods to last name (set/get)\n",
    "- can print out its info"
   ]
  },
  {
   "cell_type": "code",
   "execution_count": 41,
   "metadata": {},
   "outputs": [],
   "source": [
    "class guest(object):\n",
    "    def __init__(self, first, last, numAdults, numChildren):\n",
    "       self.first = first\n",
    "       self.last = last\n",
    "       self.noofAdults = numAdults\n",
    "       self.noofChildren = numChildren\n",
    "    def __str__(self): \n",
    "        return f'Guest name: {self.first}, {self.last}, {self.noofAdults} adults, {self.noofChildren} kids'"
   ]
  },
  {
   "cell_type": "code",
   "execution_count": 42,
   "metadata": {},
   "outputs": [
    {
     "output_type": "stream",
     "name": "stdout",
     "text": "Guest name: Ballard, Berkeley, 1 adults, 0 kids\nGuest name: Fred, Flintstone, 3 adults, 1 kids\n"
    }
   ],
   "source": [
    "# test\n",
    "g1 = guest(\"Ballard\", \"Berkeley\", 1, 0)\n",
    "print(g1)\n",
    "\n",
    "g2 = guest(\"Fred\", \"Flintstone\", 3, 1)\n",
    "print(g2)\n",
    "\n",
    "# keep a list of guests\n",
    "guest_list = [g1, g2]"
   ]
  },
  {
   "cell_type": "markdown",
   "metadata": {},
   "source": [
    "### Reservations\n",
    "- this is a non-physical class, meant to model a reservation system\n",
    "- creating a reservation reserves a villa for a time (don't know the guest yet!\n",
    "- uses a reservation id so humans have a handle on the reservation object\n",
    "- attributes:\n",
    "    - villa object (better than a name string, b/c that ensures we use an __existing__ villa!)\n",
    "    - checkin date \n",
    "    - check out date, calculated from check in date + number of days to stay\n",
    "    - reservation ID\n",
    "- reservation id could be anything (string, int) and has to be set after __init__ (why?)\n",
    "- can print out its data"
   ]
  },
  {
   "cell_type": "code",
   "execution_count": 43,
   "metadata": {},
   "outputs": [],
   "source": [
    "from datetime import timedelta\n",
    "\n",
    "class reservation(object):\n",
    "    def __init__(self, villa_object, res_id, check_in_date, stay_num_days):\n",
    "         self.checkinDate = check_in_date\n",
    "         self.lengthofStay = stay_num_days\n",
    "         self.villa = villa_object\n",
    "         self.checkoutDate = check_in_date + timedelta(days=stay_num_days)\n",
    "         self.reservID = res_id  \n",
    "         self.villa.id = res_id # need to also set the red_id in the villa\n",
    "\n",
    "    def getID(self):\n",
    "            return self.self.reservID\n",
    "    def getvillaName(self):\n",
    "             return self.villaName\n",
    "    def getcheckinDate(self):\n",
    "            return self.checkinDate\n",
    "    def getcheckoutDate(self):\n",
    "            return self.checkoutDate\n",
    "    def __str__(self):\n",
    "       return f\"{self.villa.villaName}: id {self.reservID}: reserved from {self.checkinDate}, for {self.lengthofStay} days, until {self.checkoutDate} \""
   ]
  },
  {
   "cell_type": "code",
   "execution_count": 44,
   "metadata": {},
   "outputs": [
    {
     "output_type": "stream",
     "name": "stdout",
     "text": "testvilla: id 123: reserved from 2020-06-02, for 4 days, until 2020-06-06 \ntestVIPvilla: id 456: reserved from 2020-06-12, for 21 days, until 2020-07-03 \n"
    }
   ],
   "source": [
    "# test for reservation\n",
    "r1 = reservation(v, 123, date(2020,6,2), 4) # reserve slob villa for 4 days\n",
    "print(r1)\n",
    "\n",
    "r2 = reservation(vip, 456, date(2020,6,12), 21) # reserve VIP villa for 21 days\n",
    "print(r2)"
   ]
  },
  {
   "cell_type": "markdown",
   "metadata": {},
   "source": [
    "### Resort class\n",
    "- acts as a central \"wrapper\" around  all other classes\n",
    "- an booking app would primarily interact with this object\n",
    "- attributes:\n",
    "    - name\n",
    "    - list of its villas \n",
    "- can connect a guest to a reservation (which already links to a villa) via book() method\n",
    "- can print out its current data (internal state)  \n",
    "- I choose a dictionary to manifest a booking action:\n",
    "    - I assign a reservation object as value (which reserves a specific villa for a duration) to an already existing guest object as key (objects are fine for keys, as long as the are immutable)"
   ]
  },
  {
   "cell_type": "code",
   "execution_count": 45,
   "metadata": {},
   "outputs": [],
   "source": [
    "class resort(object):\n",
    "    def __init__(self, resort_name, villa_list):\n",
    "        self.resort_name = resort_name\n",
    "        self.villa_list = villa_list\n",
    "        self.booking_dict = {} # connects guest to their reservation and villa\n",
    "                               # means that no guest can book 2 villas \n",
    "    def book(self, guest, reservation):\n",
    "        self.booking_dict[guest] = reservation # reservation already links to villa!\n",
    "    def get_reservation(self, guest):\n",
    "        return self.booking_dict[guest]\n",
    "    def __str__(self):\n",
    "        s = self.resort_name + \"\\n\"\n",
    "        if len(self.villa_list) > 0:\n",
    "            s += \"villa list:\\n\"\n",
    "            for v in self.villa_list:\n",
    "                s += \"\\t\" + str(v) + \"\\n\"\n",
    "\n",
    "        guestList = self.booking_dict.keys()\n",
    "        if len(guestList) > 0:\n",
    "            s += \"guest list\\n\"\n",
    "            for g in guestList:\n",
    "                s += \"\\t\" + str(g) + \"\\n\"\n",
    "\n",
    "            res_list = self.booking_dict.values()\n",
    "            s += \"reservation list\\n\"\n",
    "            for r in res_list:\n",
    "                s += \"\\t\" + str(r) + \"\\n\"\n",
    "\n",
    "        return s"
   ]
  },
  {
   "cell_type": "code",
   "execution_count": 46,
   "metadata": {},
   "outputs": [
    {
     "output_type": "stream",
     "name": "stdout",
     "text": "myresort\nvilla list:\n\tName: testvilla, reservation id: 123, PA: Manuel\n\tName: testVIPvilla, reservation id: 456, PA: Hervé Villechaize (VIP)\n\n"
    }
   ],
   "source": [
    "# make resort and add the 2 villas\n",
    "rs = resort(\"myresort\", [v, vip])\n",
    "print(rs)"
   ]
  },
  {
   "cell_type": "code",
   "execution_count": 47,
   "metadata": {},
   "outputs": [
    {
     "output_type": "stream",
     "name": "stdout",
     "text": "myresort\nvilla list:\n\tName: testvilla, reservation id: 123, PA: Manuel\n\tName: testVIPvilla, reservation id: 456, PA: Hervé Villechaize (VIP)\nguest list\n\tGuest name: Ballard, Berkeley, 1 adults, 0 kids\n\tGuest name: Fred, Flintstone, 3 adults, 1 kids\nreservation list\n\ttestvilla: id 123: reserved from 2020-06-02, for 4 days, until 2020-06-06 \n\ttestVIPvilla: id 456: reserved from 2020-06-12, for 21 days, until 2020-07-03 \n\n"
    }
   ],
   "source": [
    "# book the 2 guests  into a villa using a reservation object\n",
    "rs.book(g1, r1)\n",
    "rs.book(g2, r2)\n",
    "print(rs)"
   ]
  },
  {
   "cell_type": "code",
   "execution_count": 48,
   "metadata": {},
   "outputs": [
    {
     "output_type": "stream",
     "name": "stdout",
     "text": "Guest name: Fred, Flintstone, 3 adults, 1 kids testVIPvilla: id 456: reserved from 2020-06-12, for 21 days, until 2020-07-03 \n"
    }
   ],
   "source": [
    "# what villa has g2 reserved?  get the reservation for it and print it out\n",
    "print(g2, rs.get_reservation(g2))"
   ]
  },
  {
   "cell_type": "markdown",
   "metadata": {},
   "source": [
    "### Closing thoughts\n",
    "- We could think of this as the core of a management app but there are many things missing (or could be improved)\n",
    "- E.g. it should be possible to use the reservation id (confirmation code) to connect a guest to a reservation\n",
    "- It's very likely that I will use this setup this (cleaned up some more) as you last python refresher exercise\n"
   ]
  }
 ],
 "metadata": {
  "kernelspec": {
   "display_name": "Python 3",
   "language": "python",
   "name": "python3"
  },
  "language_info": {
   "codemirror_mode": {
    "name": "ipython",
    "version": 3
   },
   "file_extension": ".py",
   "mimetype": "text/x-python",
   "name": "python",
   "nbconvert_exporter": "python",
   "pygments_lexer": "ipython3",
   "version": "3.7.3-final"
  }
 },
 "nbformat": 4,
 "nbformat_minor": 2
}