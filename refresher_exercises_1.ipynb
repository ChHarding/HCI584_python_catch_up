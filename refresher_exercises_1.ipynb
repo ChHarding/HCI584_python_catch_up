{
 "cells": [
  {
   "cell_type": "markdown",
   "metadata": {},
   "source": [
    "# Python refresher exercises - part 1\n",
    "May 25, 2020\n",
    "\n",
    "- these exercises are meant to test you understanding of refresher parts 1 (variables, basic data types) and part 2 (flow control)\n",
    "- Each exercise will (typically) describe a task and it's solution; and expect you to write code to create the solution.\n",
    "- \n"
   ]
  },
  {
   "cell_type": "code",
   "execution_count": null,
   "metadata": {},
   "outputs": [],
   "source": [
    "# some code\n"
   ]
  }
 ],
 "metadata": {
  "language_info": {
   "codemirror_mode": {
    "name": "ipython",
    "version": 3
   },
   "file_extension": ".py",
   "mimetype": "text/x-python",
   "name": "python",
   "nbconvert_exporter": "python",
   "pygments_lexer": "ipython3",
   "version": 3
  },
  "orig_nbformat": 2
 },
 "nbformat": 4,
 "nbformat_minor": 2
}