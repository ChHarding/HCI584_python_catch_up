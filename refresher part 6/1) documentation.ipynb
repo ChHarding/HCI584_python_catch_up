{
 "cells": [
  {
   "cell_type": "markdown",
   "metadata": {},
   "source": [
    "# Documentation\n",
    "\n",
    "- help others to understand your code\n",
    "- think of your python source code as a \"letter to another programmer\" (or yourself)\n",
    "- Get used to put in comments to yourself as you write code\n",
    "\n",
    "\n"
   ]
  },
  {
   "cell_type": "markdown",
   "metadata": {},
   "source": [
    "### Some good coding practices (in my opinion)\n",
    "- have only 1 (major) action per line of code\n",
    "- avoid this:\n",
    "```\n",
    "flux_capcity = math.sin(len(\", \".join(split(L)).upper())) + 10 \n",
    "```\n",
    "- break it in multiple lines (or at least lines with a few actions only)\n",
    "\n",
    "```\n",
    "ABD_str = \", \".join(split(L)).upper())\n",
    "reynolds_coeff = len(ABD_str)\n",
    "flux_capcity =  math.sin(reynolds_coeff) + 10\n",
    "```\n",
    "\n",
    "- use descriptive names for variables, function/methods and classes\n",
    "- if needed use an alias for a long name: `rc = reynolds_coeff`\n",
    "\n",
    "- don't literally duplicate code, instead with a function/method and call it\n",
    "\n"
   ]
  },
  {
   "cell_type": "markdown",
   "metadata": {},
   "source": [
    "### Doc strings\n",
    "- the first string in a module, class, method or function is the __docstring__\n",
    "- writing a docstring is prefered to a comment section before the function, but you can do both\n",
    "- there's no mandatory standard of what a docstring must cover but it should have all the important info for somebody who wants to call the function, at least\n",
    "    - name and expected type of each argument\n",
    "    - what's returned?\n",
    "    - what happens in case of errors?\n"
   ]
  },
  {
   "cell_type": "code",
   "execution_count": 1,
   "metadata": {},
   "outputs": [],
   "source": [
    "\"\"\" Defines functions related to Monty Python's Spanish Inquisition \"\"\"\n",
    "# The string above counts as the  module - wide doc string, but many programmers\n",
    "# put more detail in a simple comment block, such as below\n",
    "\n",
    "\n",
    "#-------------------------------------------------------------------------------\n",
    "# Name:      spanish_inquisition.py\n",
    "# Purpose:   Example of how to put meta information in a Python file (module)\n",
    "# Author(s): charding\n",
    "# Created:   20/02/2013 \n",
    "# TODO:      make the code more complicated, I mean, come on Chris, one line\n",
    "# Note:       Programming results are based on this observations:\n",
    "# https://www.youtube.com/watch?v=oJZ2m6_T1wc&list=RDoJZ2m6_T1wc#t=2\n",
    "#-------------------------------------------------------------------------------\n",
    "def expects_the_spanish_inquisition(person):  \n",
    "    \"\"\"Evaluates if a given person expects the spanish inquisition  \n",
    "\n",
    "    Parameters (or Args):   \n",
    "        person : String  \n",
    "         input variable representing the person to be tested <- explanation\n",
    "\n",
    "    Returns:  \n",
    "        Always returns False, as nobody expects the Spanish inquisition!      \n",
    "\n",
    "    Notes:\n",
    "        Person may be subjected to the comfy chair and will otherwise not be harmed. \n",
    "        Still they suspect nothing ...\n",
    "\n",
    "    \"\"\"\n",
    "    #  the function's actual code goes here ...\n",
    "\n",
    "    return False # as no person suspects the spanish inquisition, we just return False"
   ]
  },
  {
   "cell_type": "markdown",
   "metadata": {},
   "source": [
    "- if you have good docstrings, others can use help() on any of your functions, classes, modules!\n",
    "- It even possible to automatically generate an entire doc system, e.g. https://www.sphinx-doc.org/en/master/\n"
   ]
  },
  {
   "cell_type": "code",
   "execution_count": 2,
   "metadata": {},
   "outputs": [
    {
     "output_type": "stream",
     "name": "stdout",
     "text": "Help on function expects_the_spanish_inquisition in module __main__:\n\nexpects_the_spanish_inquisition(person)\n    Evaluates if a given person expects the spanish inquisition  \n    \n    Parameters (or Args):   \n        person : String  \n         input variable representing the person to be tested <- explanation\n    \n    Returns:  \n        Always returns False, as nobody expects the Spanish inquisition!      \n    \n    Notes:\n        Person may be subjected to the comfy chair and will otherwise not be harmed. \n        Still they suspect nothing ...\n\n"
    }
   ],
   "source": [
    "help( expects_the_spanish_inquisition)"
   ]
  },
  {
   "cell_type": "markdown",
   "metadata": {},
   "source": [
    "- when you first write a function, class, etc. at least put a 1-2 line description into the doc string\n",
    "- refine it as needed (don't wait until the very end!)\n",
    "- I expect you to have reasonable docstrings in your version 1 and good docstrings in vesion 2!"
   ]
  },
  {
   "cell_type": "code",
   "execution_count": null,
   "metadata": {},
   "outputs": [],
   "source": []
  }
 ],
 "metadata": {
  "language_info": {
   "codemirror_mode": {
    "name": "ipython",
    "version": 3
   },
   "file_extension": ".py",
   "mimetype": "text/x-python",
   "name": "python",
   "nbconvert_exporter": "python",
   "pygments_lexer": "ipython3",
   "version": "3.7.3-final"
  },
  "orig_nbformat": 2,
  "kernelspec": {
   "name": "python3",
   "display_name": "Python 3"
  }
 },
 "nbformat": 4,
 "nbformat_minor": 2
}